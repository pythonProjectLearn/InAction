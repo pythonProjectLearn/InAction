{
 "metadata": {
  "name": ""
 },
 "nbformat": 3,
 "nbformat_minor": 0,
 "worksheets": [
  {
   "cells": [
    {
     "cell_type": "code",
     "collapsed": false,
     "input": [
      "import sys"
     ],
     "language": "python",
     "metadata": {},
     "outputs": [],
     "prompt_number": 3
    },
    {
     "cell_type": "code",
     "collapsed": false,
     "input": [
      "print 'a'"
     ],
     "language": "python",
     "metadata": {},
     "outputs": [
      {
       "output_type": "stream",
       "stream": "stdout",
       "text": [
        "a\n"
       ]
      }
     ],
     "prompt_number": 4
    },
    {
     "cell_type": "code",
     "collapsed": false,
     "input": [
      "import kNN"
     ],
     "language": "python",
     "metadata": {},
     "outputs": [],
     "prompt_number": 5
    },
    {
     "cell_type": "code",
     "collapsed": false,
     "input": [
      "reload(kNN)"
     ],
     "language": "python",
     "metadata": {},
     "outputs": [
      {
       "metadata": {},
       "output_type": "pyout",
       "prompt_number": 13,
       "text": [
        "<module 'kNN' from 'kNN.pyc'>"
       ]
      }
     ],
     "prompt_number": 13
    },
    {
     "cell_type": "code",
     "collapsed": false,
     "input": [
      "kNN.classifyPerson()"
     ],
     "language": "python",
     "metadata": {},
     "outputs": [
      {
       "name": "stdout",
       "output_type": "stream",
       "stream": "stdout",
       "text": [
        "percentage of time spent playing video games?10\n"
       ]
      },
      {
       "name": "stdout",
       "output_type": "stream",
       "stream": "stdout",
       "text": [
        "frequent fliter miles earned per year?10000\n"
       ]
      },
      {
       "name": "stdout",
       "output_type": "stream",
       "stream": "stdout",
       "text": [
        "liters of ice cream consumed per year?0.5\n"
       ]
      },
      {
       "output_type": "stream",
       "stream": "stdout",
       "text": [
        "you will probably like this person: in small doses\n"
       ]
      }
     ],
     "prompt_number": 8
    },
    {
     "cell_type": "code",
     "collapsed": false,
     "input": [
      "kNN.img2vector('./testDigits/0_13.txt')"
     ],
     "language": "python",
     "metadata": {},
     "outputs": [
      {
       "metadata": {},
       "output_type": "pyout",
       "prompt_number": 18,
       "text": [
        "array([[ 0.,  0.,  0., ...,  0.,  0.,  0.]])"
       ]
      }
     ],
     "prompt_number": 18
    },
    {
     "cell_type": "code",
     "collapsed": false,
     "input": [
      "hwLabels = []"
     ],
     "language": "python",
     "metadata": {},
     "outputs": [],
     "prompt_number": 35
    },
    {
     "cell_type": "code",
     "collapsed": false,
     "input": [
      "from os import listdir"
     ],
     "language": "python",
     "metadata": {},
     "outputs": [],
     "prompt_number": 20
    },
    {
     "cell_type": "code",
     "collapsed": false,
     "input": [
      "trainingFileList = listdir('trainingDigits')"
     ],
     "language": "python",
     "metadata": {},
     "outputs": [],
     "prompt_number": 26
    },
    {
     "cell_type": "code",
     "collapsed": false,
     "input": [
      "trainingFileList[:2]"
     ],
     "language": "python",
     "metadata": {},
     "outputs": [
      {
       "metadata": {},
       "output_type": "pyout",
       "prompt_number": 28,
       "text": [
        "['0_0.txt', '0_1.txt']"
       ]
      }
     ],
     "prompt_number": 28
    },
    {
     "cell_type": "code",
     "collapsed": false,
     "input": [
      " m = len(trainingFileList)"
     ],
     "language": "python",
     "metadata": {},
     "outputs": [],
     "prompt_number": 29
    },
    {
     "cell_type": "code",
     "collapsed": false,
     "input": [
      "m"
     ],
     "language": "python",
     "metadata": {},
     "outputs": [
      {
       "metadata": {},
       "output_type": "pyout",
       "prompt_number": 30,
       "text": [
        "1934"
       ]
      }
     ],
     "prompt_number": 30
    },
    {
     "cell_type": "code",
     "collapsed": false,
     "input": [
      "from numpy import *"
     ],
     "language": "python",
     "metadata": {},
     "outputs": [],
     "prompt_number": 40
    },
    {
     "cell_type": "code",
     "collapsed": false,
     "input": [
      "trainingMat = zeros((m,1024)) "
     ],
     "language": "python",
     "metadata": {},
     "outputs": [],
     "prompt_number": 41
    },
    {
     "cell_type": "code",
     "collapsed": false,
     "input": [
      "    for i in range(m):\n",
      "        fileNameStr = trainingFileList[i] #\u6bcf\u4e00\u4e2a\u5143\u7d20\u90fd\u653e\u5728fileNameStr\u4e2d\n",
      "        fileStr = fileNameStr.split('.')[0]     #0_0.txt\u4ee5.\u4e3a\u5206\u9694\u7b26\uff0c\u53d6\u7b2c\u4e00\u90e8\u5206\u5f97\u5230.txt\u524d\u9762\u7684\u540d\u79f0\n",
      "        classNumStr = int(fileStr.split('_')[0]) #\n",
      "        hwLabels.append(classNumStr)\n",
      "        trainingMat[i,:] = kNN.img2vector('trainingDigits/%s' % fileNameStr)"
     ],
     "language": "python",
     "metadata": {},
     "outputs": [],
     "prompt_number": 42
    },
    {
     "cell_type": "code",
     "collapsed": false,
     "input": [
      "testFileList = listdir('testDigits')   "
     ],
     "language": "python",
     "metadata": {},
     "outputs": [],
     "prompt_number": 43
    },
    {
     "cell_type": "code",
     "collapsed": false,
     "input": [
      "errorCount = 0.0"
     ],
     "language": "python",
     "metadata": {},
     "outputs": [],
     "prompt_number": 44
    },
    {
     "cell_type": "code",
     "collapsed": false,
     "input": [
      "mTest = len(testFileList)"
     ],
     "language": "python",
     "metadata": {},
     "outputs": [],
     "prompt_number": 45
    },
    {
     "cell_type": "code",
     "collapsed": false,
     "input": [
      "mTest"
     ],
     "language": "python",
     "metadata": {},
     "outputs": [
      {
       "metadata": {},
       "output_type": "pyout",
       "prompt_number": 46,
       "text": [
        "946"
       ]
      }
     ],
     "prompt_number": 46
    },
    {
     "cell_type": "code",
     "collapsed": false,
     "input": [
      "trainingMat"
     ],
     "language": "python",
     "metadata": {},
     "outputs": [
      {
       "metadata": {},
       "output_type": "pyout",
       "prompt_number": 47,
       "text": [
        "array([[ 0.,  0.,  0., ...,  0.,  0.,  0.],\n",
        "       [ 0.,  0.,  0., ...,  0.,  0.,  0.],\n",
        "       [ 0.,  0.,  0., ...,  0.,  0.,  0.],\n",
        "       ..., \n",
        "       [ 0.,  0.,  0., ...,  0.,  0.,  0.],\n",
        "       [ 0.,  0.,  0., ...,  0.,  0.,  0.],\n",
        "       [ 0.,  0.,  0., ...,  0.,  0.,  0.]])"
       ]
      }
     ],
     "prompt_number": 47
    },
    {
     "cell_type": "code",
     "collapsed": false,
     "input": [
      "kNN.handwritingClassTest()"
     ],
     "language": "python",
     "metadata": {},
     "outputs": [
      {
       "output_type": "stream",
       "stream": "stdout",
       "text": [
        "the classifier came back with: 4, the real answer is: 4\n",
        "the classifier came back with: 0, the real answer is: 0\n",
        "the classifier came back with: 0, the real answer is: 0"
       ]
      },
      {
       "output_type": "stream",
       "stream": "stdout",
       "text": [
        "\n",
        "the classifier came back with: 0, the real answer is: 0\n",
        "the classifier came back with: 0, the real answer is: 0"
       ]
      },
      {
       "output_type": "stream",
       "stream": "stdout",
       "text": [
        "\n",
        "the classifier came back with: 0, the real answer is: 0\n",
        "the classifier came back with: 0, the real answer is: 0"
       ]
      },
      {
       "output_type": "stream",
       "stream": "stdout",
       "text": [
        "\n",
        "the classifier came back with: 0, the real answer is: 0\n",
        "the classifier came back with: 0, the real answer is: 0"
       ]
      },
      {
       "output_type": "stream",
       "stream": "stdout",
       "text": [
        "\n",
        "the classifier came back with: 0, the real answer is: 0\n",
        "the classifier came back with: 0, the real answer is: 0"
       ]
      },
      {
       "output_type": "stream",
       "stream": "stdout",
       "text": [
        "\n",
        "the classifier came back with: 0, the real answer is: 0\n",
        "the classifier came back with: 0, the real answer is: 0"
       ]
      },
      {
       "output_type": "stream",
       "stream": "stdout",
       "text": [
        "\n",
        "the classifier came back with: 0, the real answer is: 0\n",
        "the classifier came back with: 0, the real answer is: 0"
       ]
      },
      {
       "output_type": "stream",
       "stream": "stdout",
       "text": [
        "\n",
        "the classifier came back with: 0, the real answer is: 0\n",
        "the classifier came back with: 0, the real answer is: 0"
       ]
      },
      {
       "output_type": "stream",
       "stream": "stdout",
       "text": [
        "\n",
        "the classifier came back with: 0, the real answer is: 0\n",
        "the classifier came back with: 0, the real answer is: 0"
       ]
      },
      {
       "output_type": "stream",
       "stream": "stdout",
       "text": [
        "\n",
        "the classifier came back with: 0, the real answer is: 0\n",
        "the classifier came back with: 0, the real answer is: 0"
       ]
      },
      {
       "output_type": "stream",
       "stream": "stdout",
       "text": [
        "\n",
        "the classifier came back with: 0, the real answer is: 0\n",
        "the classifier came back with: 0, the real answer is: 0"
       ]
      },
      {
       "output_type": "stream",
       "stream": "stdout",
       "text": [
        "\n",
        "the classifier came back with: 0, the real answer is: 0\n",
        "the classifier came back with: 0, the real answer is: 0"
       ]
      },
      {
       "output_type": "stream",
       "stream": "stdout",
       "text": [
        "\n",
        "the classifier came back with: 0, the real answer is: 0\n",
        "the classifier came back with: 0, the real answer is: 0"
       ]
      },
      {
       "output_type": "stream",
       "stream": "stdout",
       "text": [
        "\n",
        "the classifier came back with: 0, the real answer is: 0\n",
        "the classifier came back with: 0, the real answer is: 0"
       ]
      },
      {
       "output_type": "stream",
       "stream": "stdout",
       "text": [
        "\n",
        "the classifier came back with: 0, the real answer is: 0\n",
        "the classifier came back with: 0, the real answer is: 0"
       ]
      },
      {
       "output_type": "stream",
       "stream": "stdout",
       "text": [
        "\n",
        "the classifier came back with: 0, the real answer is: 0\n",
        "the classifier came back with: 0, the real answer is: 0"
       ]
      },
      {
       "output_type": "stream",
       "stream": "stdout",
       "text": [
        "\n",
        "the classifier came back with: 0, the real answer is: 0\n",
        "the classifier came back with: 0, the real answer is: 0"
       ]
      },
      {
       "output_type": "stream",
       "stream": "stdout",
       "text": [
        "\n",
        "the classifier came back with: 0, the real answer is: 0\n",
        "the classifier came back with: 0, the real answer is: 0"
       ]
      },
      {
       "output_type": "stream",
       "stream": "stdout",
       "text": [
        "\n",
        "the classifier came back with: 0, the real answer is: 0\n",
        "the classifier came back with: 0, the real answer is: 0"
       ]
      },
      {
       "output_type": "stream",
       "stream": "stdout",
       "text": [
        "\n",
        "the classifier came back with: 0, the real answer is: 0\n",
        "the classifier came back with: 0, the real answer is: 0"
       ]
      },
      {
       "output_type": "stream",
       "stream": "stdout",
       "text": [
        "\n",
        "the classifier came back with: 0, the real answer is: 0\n",
        "the classifier came back with: 0, the real answer is: 0"
       ]
      },
      {
       "output_type": "stream",
       "stream": "stdout",
       "text": [
        "\n",
        "the classifier came back with: 0, the real answer is: 0\n",
        "the classifier came back with: 0, the real answer is: 0"
       ]
      },
      {
       "output_type": "stream",
       "stream": "stdout",
       "text": [
        "\n",
        "the classifier came back with: 0, the real answer is: 0\n",
        "the classifier came back with: 0, the real answer is: 0"
       ]
      },
      {
       "output_type": "stream",
       "stream": "stdout",
       "text": [
        "\n",
        "the classifier came back with: 0, the real answer is: 0\n",
        "the classifier came back with: 0, the real answer is: 0"
       ]
      },
      {
       "output_type": "stream",
       "stream": "stdout",
       "text": [
        "\n",
        "the classifier came back with: 0, the real answer is: 0\n",
        "the classifier came back with: 0, the real answer is: 0"
       ]
      },
      {
       "output_type": "stream",
       "stream": "stdout",
       "text": [
        "\n",
        "the classifier came back with: 0, the real answer is: 0\n",
        "the classifier came back with: 0, the real answer is: 0"
       ]
      },
      {
       "output_type": "stream",
       "stream": "stdout",
       "text": [
        "\n",
        "the classifier came back with: 0, the real answer is: 0\n",
        "the classifier came back with: 0, the real answer is: 0"
       ]
      },
      {
       "output_type": "stream",
       "stream": "stdout",
       "text": [
        "\n",
        "the classifier came back with: 0, the real answer is: 0\n",
        "the classifier came back with: 0, the real answer is: 0"
       ]
      },
      {
       "output_type": "stream",
       "stream": "stdout",
       "text": [
        "\n",
        "the classifier came back with: 0, the real answer is: 0\n",
        "the classifier came back with: 0, the real answer is: 0"
       ]
      },
      {
       "output_type": "stream",
       "stream": "stdout",
       "text": [
        "\n",
        "the classifier came back with: 0, the real answer is: 0\n",
        "the classifier came back with: 0, the real answer is: 0"
       ]
      },
      {
       "output_type": "stream",
       "stream": "stdout",
       "text": [
        "\n",
        "the classifier came back with: 0, the real answer is: 0\n",
        "the classifier came back with: 0, the real answer is: 0"
       ]
      },
      {
       "output_type": "stream",
       "stream": "stdout",
       "text": [
        "\n",
        "the classifier came back with: 0, the real answer is: 0\n",
        "the classifier came back with: 0, the real answer is: 0"
       ]
      },
      {
       "output_type": "stream",
       "stream": "stdout",
       "text": [
        "\n",
        "the classifier came back with: 0, the real answer is: 0\n",
        "the classifier came back with: 0, the real answer is: 0"
       ]
      },
      {
       "output_type": "stream",
       "stream": "stdout",
       "text": [
        "\n",
        "the classifier came back with: 0, the real answer is: 0\n",
        "the classifier came back with: 0, the real answer is: 0"
       ]
      },
      {
       "output_type": "stream",
       "stream": "stdout",
       "text": [
        "\n",
        "the classifier came back with: 0, the real answer is: 0\n",
        "the classifier came back with: 0, the real answer is: 0"
       ]
      },
      {
       "output_type": "stream",
       "stream": "stdout",
       "text": [
        "\n",
        "the classifier came back with: 0, the real answer is: 0\n",
        "the classifier came back with: 0, the real answer is: 0"
       ]
      },
      {
       "output_type": "stream",
       "stream": "stdout",
       "text": [
        "\n",
        "the classifier came back with: 0, the real answer is: 0\n",
        "the classifier came back with: 0, the real answer is: 0"
       ]
      },
      {
       "output_type": "stream",
       "stream": "stdout",
       "text": [
        "\n",
        "the classifier came back with: 0, the real answer is: 0\n",
        "the classifier came back with: 0, the real answer is: 0"
       ]
      },
      {
       "output_type": "stream",
       "stream": "stdout",
       "text": [
        "\n",
        "the classifier came back with: 0, the real answer is: 0\n",
        "the classifier came back with: 0, the real answer is: 0"
       ]
      },
      {
       "output_type": "stream",
       "stream": "stdout",
       "text": [
        "\n",
        "the classifier came back with: 0, the real answer is: 0\n",
        "the classifier came back with: 0, the real answer is: 0"
       ]
      },
      {
       "output_type": "stream",
       "stream": "stdout",
       "text": [
        "\n",
        "the classifier came back with: 0, the real answer is: 0\n",
        "the classifier came back with: 0, the real answer is: 0"
       ]
      },
      {
       "output_type": "stream",
       "stream": "stdout",
       "text": [
        "\n",
        "the classifier came back with: 0, the real answer is: 0\n",
        "the classifier came back with: 1, the real answer is: 1"
       ]
      },
      {
       "output_type": "stream",
       "stream": "stdout",
       "text": [
        "\n",
        "the classifier came back with: 1, the real answer is: 1\n",
        "the classifier came back with: 1, the real answer is: 1"
       ]
      },
      {
       "output_type": "stream",
       "stream": "stdout",
       "text": [
        "\n",
        "the classifier came back with: 1, the real answer is: 1\n",
        "the classifier came back with: 1, the real answer is: 1"
       ]
      },
      {
       "output_type": "stream",
       "stream": "stdout",
       "text": [
        "\n",
        "the classifier came back with: 1, the real answer is: 1\n",
        "the classifier came back with: 1, the real answer is: 1"
       ]
      },
      {
       "output_type": "stream",
       "stream": "stdout",
       "text": [
        "\n",
        "the classifier came back with: 1, the real answer is: 1\n",
        "the classifier came back with: 1, the real answer is: 1"
       ]
      },
      {
       "output_type": "stream",
       "stream": "stdout",
       "text": [
        "\n",
        "the classifier came back with: 1, the real answer is: 1\n",
        "the classifier came back with: 1, the real answer is: 1"
       ]
      },
      {
       "output_type": "stream",
       "stream": "stdout",
       "text": [
        "\n",
        "the classifier came back with: 1, the real answer is: 1\n",
        "the classifier came back with: 0, the real answer is: 0"
       ]
      },
      {
       "output_type": "stream",
       "stream": "stdout",
       "text": [
        "\n",
        "the classifier came back with: 0, the real answer is: 0\n",
        "the classifier came back with: 0, the real answer is: 0"
       ]
      },
      {
       "output_type": "stream",
       "stream": "stdout",
       "text": [
        "\n",
        "the classifier came back with: 0, the real answer is: 0\n",
        "the classifier came back with: 1, the real answer is: 1"
       ]
      },
      {
       "output_type": "stream",
       "stream": "stdout",
       "text": [
        "\n",
        "the classifier came back with: 1, the real answer is: 1\n",
        "the classifier came back with: 1, the real answer is: 1"
       ]
      },
      {
       "output_type": "stream",
       "stream": "stdout",
       "text": [
        "\n",
        "the classifier came back with: 1, the real answer is: 1\n",
        "the classifier came back with: 1, the real answer is: 1"
       ]
      },
      {
       "output_type": "stream",
       "stream": "stdout",
       "text": [
        "\n",
        "the classifier came back with: 2, the real answer is: 2\n",
        "the classifier came back with: 2, the real answer is: 2"
       ]
      },
      {
       "output_type": "stream",
       "stream": "stdout",
       "text": [
        "\n",
        "the classifier came back with: 2, the real answer is: 2\n",
        "the classifier came back with: 2, the real answer is: 2"
       ]
      },
      {
       "output_type": "stream",
       "stream": "stdout",
       "text": [
        "\n",
        "the classifier came back with: 9, the real answer is: 3\n",
        "the classifier came back with: 3, the real answer is: 3"
       ]
      },
      {
       "output_type": "stream",
       "stream": "stdout",
       "text": [
        "\n",
        "the classifier came back with: 3, the real answer is: 3\n",
        "the classifier came back with: 3, the real answer is: 3"
       ]
      },
      {
       "output_type": "stream",
       "stream": "stdout",
       "text": [
        "\n",
        "the classifier came back with: 3, the real answer is: 3\n",
        "the classifier came back with: 1, the real answer is: 1"
       ]
      },
      {
       "output_type": "stream",
       "stream": "stdout",
       "text": [
        "\n",
        "the classifier came back with: 1, the real answer is: 1\n",
        "the classifier came back with: 1, the real answer is: 1"
       ]
      },
      {
       "output_type": "stream",
       "stream": "stdout",
       "text": [
        "\n",
        "the classifier came back with: 1, the real answer is: 1\n",
        "the classifier came back with: 1, the real answer is: 1"
       ]
      },
      {
       "output_type": "stream",
       "stream": "stdout",
       "text": [
        "\n",
        "the classifier came back with: 1, the real answer is: 1\n",
        "the classifier came back with: 1, the real answer is: 1"
       ]
      },
      {
       "output_type": "stream",
       "stream": "stdout",
       "text": [
        "\n",
        "the classifier came back with: 1, the real answer is: 1\n",
        "the classifier came back with: 1, the real answer is: 1"
       ]
      },
      {
       "output_type": "stream",
       "stream": "stdout",
       "text": [
        "\n",
        "the classifier came back with: 1, the real answer is: 1\n",
        "the classifier came back with: 1, the real answer is: 1"
       ]
      },
      {
       "output_type": "stream",
       "stream": "stdout",
       "text": [
        "\n",
        "the classifier came back with: 1, the real answer is: 1\n",
        "the classifier came back with: 1, the real answer is: 1"
       ]
      },
      {
       "output_type": "stream",
       "stream": "stdout",
       "text": [
        "\n",
        "the classifier came back with: 1, the real answer is: 1\n",
        "the classifier came back with: 1, the real answer is: 1"
       ]
      },
      {
       "output_type": "stream",
       "stream": "stdout",
       "text": [
        "\n",
        "the classifier came back with: 1, the real answer is: 1\n",
        "the classifier came back with: 1, the real answer is: 1"
       ]
      },
      {
       "output_type": "stream",
       "stream": "stdout",
       "text": [
        "\n",
        "the classifier came back with: 1, the real answer is: 1\n",
        "the classifier came back with: 1, the real answer is: 1"
       ]
      },
      {
       "output_type": "stream",
       "stream": "stdout",
       "text": [
        "\n",
        "the classifier came back with: 1, the real answer is: 1\n",
        "the classifier came back with: 1, the real answer is: 1"
       ]
      },
      {
       "output_type": "stream",
       "stream": "stdout",
       "text": [
        "\n",
        "the classifier came back with: 1, the real answer is: 1\n",
        "the classifier came back with: 1, the real answer is: 1"
       ]
      },
      {
       "output_type": "stream",
       "stream": "stdout",
       "text": [
        "\n",
        "the classifier came back with: 1, the real answer is: 1\n",
        "the classifier came back with: 1, the real answer is: 1"
       ]
      },
      {
       "output_type": "stream",
       "stream": "stdout",
       "text": [
        "\n",
        "the classifier came back with: 1, the real answer is: 1\n",
        "the classifier came back with: 1, the real answer is: 1"
       ]
      },
      {
       "output_type": "stream",
       "stream": "stdout",
       "text": [
        "\n",
        "the classifier came back with: 1, the real answer is: 1\n",
        "the classifier came back with: 1, the real answer is: 1"
       ]
      },
      {
       "output_type": "stream",
       "stream": "stdout",
       "text": [
        "\n",
        "the classifier came back with: 1, the real answer is: 1\n",
        "the classifier came back with: 1, the real answer is: 1"
       ]
      },
      {
       "output_type": "stream",
       "stream": "stdout",
       "text": [
        "\n",
        "the classifier came back with: 1, the real answer is: 1\n",
        "the classifier came back with: 1, the real answer is: 1"
       ]
      },
      {
       "output_type": "stream",
       "stream": "stdout",
       "text": [
        "\n",
        "the classifier came back with: 1, the real answer is: 1\n",
        "the classifier came back with: 1, the real answer is: 1"
       ]
      },
      {
       "output_type": "stream",
       "stream": "stdout",
       "text": [
        "\n",
        "the classifier came back with: 1, the real answer is: 1\n",
        "the classifier came back with: 1, the real answer is: 1"
       ]
      },
      {
       "output_type": "stream",
       "stream": "stdout",
       "text": [
        "\n",
        "the classifier came back with: 1, the real answer is: 1\n",
        "the classifier came back with: 1, the real answer is: 1"
       ]
      },
      {
       "output_type": "stream",
       "stream": "stdout",
       "text": [
        "\n",
        "the classifier came back with: 1, the real answer is: 1\n",
        "the classifier came back with: 1, the real answer is: 1"
       ]
      },
      {
       "output_type": "stream",
       "stream": "stdout",
       "text": [
        "\n",
        "the classifier came back with: 1, the real answer is: 1\n",
        "the classifier came back with: 1, the real answer is: 1"
       ]
      },
      {
       "output_type": "stream",
       "stream": "stdout",
       "text": [
        "\n",
        "the classifier came back with: 1, the real answer is: 1\n",
        "the classifier came back with: 1, the real answer is: 1"
       ]
      },
      {
       "output_type": "stream",
       "stream": "stdout",
       "text": [
        "\n",
        "the classifier came back with: 1, the real answer is: 1\n",
        "the classifier came back with: 1, the real answer is: 1"
       ]
      },
      {
       "output_type": "stream",
       "stream": "stdout",
       "text": [
        "\n",
        "the classifier came back with: 1, the real answer is: 1\n",
        "the classifier came back with: 1, the real answer is: 1"
       ]
      },
      {
       "output_type": "stream",
       "stream": "stdout",
       "text": [
        "\n",
        "the classifier came back with: 1, the real answer is: 1\n",
        "the classifier came back with: 1, the real answer is: 1"
       ]
      },
      {
       "output_type": "stream",
       "stream": "stdout",
       "text": [
        "\n",
        "the classifier came back with: 1, the real answer is: 1\n",
        "the classifier came back with: 1, the real answer is: 1"
       ]
      },
      {
       "output_type": "stream",
       "stream": "stdout",
       "text": [
        "\n",
        "the classifier came back with: 1, the real answer is: 1"
       ]
      },
      {
       "output_type": "stream",
       "stream": "stdout",
       "text": [
        "\n",
        "the classifier came back with: 1, the real answer is: 1\n",
        "the classifier came back with: 1, the real answer is: 1"
       ]
      },
      {
       "output_type": "stream",
       "stream": "stdout",
       "text": [
        "\n",
        "the classifier came back with: 1, the real answer is: 1\n",
        "the classifier came back with: 1, the real answer is: 1"
       ]
      },
      {
       "output_type": "stream",
       "stream": "stdout",
       "text": [
        "\n",
        "the classifier came back with: 1, the real answer is: 1\n",
        "the classifier came back with: 1, the real answer is: 1"
       ]
      },
      {
       "output_type": "stream",
       "stream": "stdout",
       "text": [
        "\n",
        "the classifier came back with: 1, the real answer is: 1\n",
        "the classifier came back with: 1, the real answer is: 1"
       ]
      },
      {
       "output_type": "stream",
       "stream": "stdout",
       "text": [
        "\n",
        "the classifier came back with: 1, the real answer is: 1\n",
        "the classifier came back with: 1, the real answer is: 1"
       ]
      },
      {
       "output_type": "stream",
       "stream": "stdout",
       "text": [
        "\n",
        "the classifier came back with: 1, the real answer is: 1\n",
        "the classifier came back with: 1, the real answer is: 1"
       ]
      },
      {
       "output_type": "stream",
       "stream": "stdout",
       "text": [
        "\n",
        "the classifier came back with: 1, the real answer is: 1\n",
        "the classifier came back with: 1, the real answer is: 1"
       ]
      },
      {
       "output_type": "stream",
       "stream": "stdout",
       "text": [
        "\n",
        "the classifier came back with: 1, the real answer is: 1\n",
        "the classifier came back with: 7, the real answer is: 1"
       ]
      },
      {
       "output_type": "stream",
       "stream": "stdout",
       "text": [
        "\n",
        "the classifier came back with: 1, the real answer is: 1\n",
        "the classifier came back with: 1, the real answer is: 1"
       ]
      },
      {
       "output_type": "stream",
       "stream": "stdout",
       "text": [
        "\n",
        "the classifier came back with: 1, the real answer is: 1\n",
        "the classifier came back with: 1, the real answer is: 1"
       ]
      },
      {
       "output_type": "stream",
       "stream": "stdout",
       "text": [
        "\n",
        "the classifier came back with: 1, the real answer is: 1\n",
        "the classifier came back with: 1, the real answer is: 1"
       ]
      },
      {
       "output_type": "stream",
       "stream": "stdout",
       "text": [
        "\n",
        "the classifier came back with: 1, the real answer is: 1\n",
        "the classifier came back with: 1, the real answer is: 1"
       ]
      },
      {
       "output_type": "stream",
       "stream": "stdout",
       "text": [
        "\n",
        "the classifier came back with: 1, the real answer is: 1\n",
        "the classifier came back with: 1, the real answer is: 1"
       ]
      },
      {
       "output_type": "stream",
       "stream": "stdout",
       "text": [
        "\n",
        "the classifier came back with: 2, the real answer is: 2\n",
        "the classifier came back with: 2, the real answer is: 2"
       ]
      },
      {
       "output_type": "stream",
       "stream": "stdout",
       "text": [
        "\n",
        "the classifier came back with: 2, the real answer is: 2\n",
        "the classifier came back with: 2, the real answer is: 2"
       ]
      },
      {
       "output_type": "stream",
       "stream": "stdout",
       "text": [
        "\n",
        "the classifier came back with: 2, the real answer is: 2\n",
        "the classifier came back with: 2, the real answer is: 2"
       ]
      },
      {
       "output_type": "stream",
       "stream": "stdout",
       "text": [
        "\n",
        "the classifier came back with: 2, the real answer is: 2\n",
        "the classifier came back with: 2, the real answer is: 2"
       ]
      },
      {
       "output_type": "stream",
       "stream": "stdout",
       "text": [
        "\n",
        "the classifier came back with: 2, the real answer is: 2\n",
        "the classifier came back with: 2, the real answer is: 2"
       ]
      },
      {
       "output_type": "stream",
       "stream": "stdout",
       "text": [
        "\n",
        "the classifier came back with: 2, the real answer is: 2\n",
        "the classifier came back with: 2, the real answer is: 2"
       ]
      },
      {
       "output_type": "stream",
       "stream": "stdout",
       "text": [
        "\n",
        "the classifier came back with: 2, the real answer is: 2\n",
        "the classifier came back with: 2, the real answer is: 2"
       ]
      },
      {
       "output_type": "stream",
       "stream": "stdout",
       "text": [
        "\n",
        "the classifier came back with: 2, the real answer is: 2\n",
        "the classifier came back with: 2, the real answer is: 2"
       ]
      },
      {
       "output_type": "stream",
       "stream": "stdout",
       "text": [
        "\n",
        "the classifier came back with: 2, the real answer is: 2\n",
        "the classifier came back with: 2, the real answer is: 2"
       ]
      },
      {
       "output_type": "stream",
       "stream": "stdout",
       "text": [
        "\n",
        "the classifier came back with: 2, the real answer is: 2\n",
        "the classifier came back with: 2, the real answer is: 2"
       ]
      },
      {
       "output_type": "stream",
       "stream": "stdout",
       "text": [
        "\n",
        "the classifier came back with: 2, the real answer is: 2\n",
        "the classifier came back with: 2, the real answer is: 2"
       ]
      },
      {
       "output_type": "stream",
       "stream": "stdout",
       "text": [
        "\n",
        "the classifier came back with: 2, the real answer is: 2\n",
        "the classifier came back with: 2, the real answer is: 2"
       ]
      },
      {
       "output_type": "stream",
       "stream": "stdout",
       "text": [
        "\n",
        "the classifier came back with: 2, the real answer is: 2\n",
        "the classifier came back with: 2, the real answer is: 2"
       ]
      },
      {
       "output_type": "stream",
       "stream": "stdout",
       "text": [
        "\n",
        "the classifier came back with: 2, the real answer is: 2\n",
        "the classifier came back with: 2, the real answer is: 2"
       ]
      },
      {
       "output_type": "stream",
       "stream": "stdout",
       "text": [
        "\n",
        "the classifier came back with: 2, the real answer is: 2\n",
        "the classifier came back with: 2, the real answer is: 2"
       ]
      },
      {
       "output_type": "stream",
       "stream": "stdout",
       "text": [
        "\n",
        "the classifier came back with: 2, the real answer is: 2\n",
        "the classifier came back with: 2, the real answer is: 2"
       ]
      },
      {
       "output_type": "stream",
       "stream": "stdout",
       "text": [
        "\n",
        "the classifier came back with: 2, the real answer is: 2\n",
        "the classifier came back with: 2, the real answer is: 2"
       ]
      },
      {
       "output_type": "stream",
       "stream": "stdout",
       "text": [
        "\n",
        "the classifier came back with: 2, the real answer is: 2\n",
        "the classifier came back with: 2, the real answer is: 2"
       ]
      },
      {
       "output_type": "stream",
       "stream": "stdout",
       "text": [
        "\n",
        "the classifier came back with: 2, the real answer is: 2\n",
        "the classifier came back with: 2, the real answer is: 2"
       ]
      },
      {
       "output_type": "stream",
       "stream": "stdout",
       "text": [
        "\n",
        "the classifier came back with: 2, the real answer is: 2\n",
        "the classifier came back with: 2, the real answer is: 2"
       ]
      },
      {
       "output_type": "stream",
       "stream": "stdout",
       "text": [
        "\n",
        "the classifier came back with: 2, the real answer is: 2\n",
        "the classifier came back with: 2, the real answer is: 2"
       ]
      },
      {
       "output_type": "stream",
       "stream": "stdout",
       "text": [
        "\n",
        "the classifier came back with: 2, the real answer is: 2\n",
        "the classifier came back with: 2, the real answer is: 2"
       ]
      },
      {
       "output_type": "stream",
       "stream": "stdout",
       "text": [
        "\n",
        "the classifier came back with: 2, the real answer is: 2\n",
        "the classifier came back with: 2, the real answer is: 2"
       ]
      },
      {
       "output_type": "stream",
       "stream": "stdout",
       "text": [
        "\n",
        "the classifier came back with: 2, the real answer is: 2\n",
        "the classifier came back with: 2, the real answer is: 2"
       ]
      },
      {
       "output_type": "stream",
       "stream": "stdout",
       "text": [
        "\n",
        "the classifier came back with: 2, the real answer is: 2\n",
        "the classifier came back with: 2, the real answer is: 2"
       ]
      },
      {
       "output_type": "stream",
       "stream": "stdout",
       "text": [
        "\n",
        "the classifier came back with: 2, the real answer is: 2\n",
        "the classifier came back with: 2, the real answer is: 2"
       ]
      },
      {
       "output_type": "stream",
       "stream": "stdout",
       "text": [
        "\n",
        "the classifier came back with: 2, the real answer is: 2\n",
        "the classifier came back with: 2, the real answer is: 2"
       ]
      },
      {
       "output_type": "stream",
       "stream": "stdout",
       "text": [
        "\n",
        "the classifier came back with: 2, the real answer is: 2\n",
        "the classifier came back with: 2, the real answer is: 2"
       ]
      },
      {
       "output_type": "stream",
       "stream": "stdout",
       "text": [
        "\n",
        "the classifier came back with: 2, the real answer is: 2\n",
        "the classifier came back with: 2, the real answer is: 2"
       ]
      },
      {
       "output_type": "stream",
       "stream": "stdout",
       "text": [
        "\n",
        "the classifier came back with: 2, the real answer is: 2\n",
        "the classifier came back with: 2, the real answer is: 2"
       ]
      },
      {
       "output_type": "stream",
       "stream": "stdout",
       "text": [
        "\n",
        "the classifier came back with: 2, the real answer is: 2\n",
        "the classifier came back with: 2, the real answer is: 2"
       ]
      },
      {
       "output_type": "stream",
       "stream": "stdout",
       "text": [
        "\n",
        "the classifier came back with: 2, the real answer is: 2\n",
        "the classifier came back with: 2, the real answer is: 2"
       ]
      },
      {
       "output_type": "stream",
       "stream": "stdout",
       "text": [
        "\n",
        "the classifier came back with: 2, the real answer is: 2\n",
        "the classifier came back with: 2, the real answer is: 2"
       ]
      },
      {
       "output_type": "stream",
       "stream": "stdout",
       "text": [
        "\n",
        "the classifier came back with: 2, the real answer is: 2\n",
        "the classifier came back with: 2, the real answer is: 2"
       ]
      },
      {
       "output_type": "stream",
       "stream": "stdout",
       "text": [
        "\n",
        "the classifier came back with: 2, the real answer is: 2\n",
        "the classifier came back with: 2, the real answer is: 2"
       ]
      },
      {
       "output_type": "stream",
       "stream": "stdout",
       "text": [
        "\n",
        "the classifier came back with: 2, the real answer is: 2\n",
        "the classifier came back with: 2, the real answer is: 2"
       ]
      },
      {
       "output_type": "stream",
       "stream": "stdout",
       "text": [
        "\n",
        "the classifier came back with: 2, the real answer is: 2\n",
        "the classifier came back with: 2, the real answer is: 2"
       ]
      },
      {
       "output_type": "stream",
       "stream": "stdout",
       "text": [
        "\n",
        "the classifier came back with: 2, the real answer is: 2\n",
        "the classifier came back with: 2, the real answer is: 2"
       ]
      },
      {
       "output_type": "stream",
       "stream": "stdout",
       "text": [
        "\n",
        "the classifier came back with: 2, the real answer is: 2\n",
        "the classifier came back with: 2, the real answer is: 2"
       ]
      },
      {
       "output_type": "stream",
       "stream": "stdout",
       "text": [
        "\n",
        "the classifier came back with: 2, the real answer is: 2\n",
        "the classifier came back with: 2, the real answer is: 2"
       ]
      },
      {
       "output_type": "stream",
       "stream": "stdout",
       "text": [
        "\n",
        "the classifier came back with: 2, the real answer is: 2\n",
        "the classifier came back with: 2, the real answer is: 2"
       ]
      },
      {
       "output_type": "stream",
       "stream": "stdout",
       "text": [
        "\n",
        "the classifier came back with: 2, the real answer is: 2\n",
        "the classifier came back with: 2, the real answer is: 2"
       ]
      },
      {
       "output_type": "stream",
       "stream": "stdout",
       "text": [
        "\n",
        "the classifier came back with: 2, the real answer is: 2\n",
        "the classifier came back with: 2, the real answer is: 2"
       ]
      },
      {
       "output_type": "stream",
       "stream": "stdout",
       "text": [
        "\n",
        "the classifier came back with: 2, the real answer is: 2\n",
        "the classifier came back with: 2, the real answer is: 2"
       ]
      },
      {
       "output_type": "stream",
       "stream": "stdout",
       "text": [
        "\n",
        "the classifier came back with: 3, the real answer is: 3\n",
        "the classifier came back with: 3, the real answer is: 3"
       ]
      },
      {
       "output_type": "stream",
       "stream": "stdout",
       "text": [
        "\n",
        "the classifier came back with: 3, the real answer is: 3\n",
        "the classifier came back with: 3, the real answer is: 3"
       ]
      },
      {
       "output_type": "stream",
       "stream": "stdout",
       "text": [
        "\n",
        "the classifier came back with: 3, the real answer is: 3\n",
        "the classifier came back with: 3, the real answer is: 3"
       ]
      },
      {
       "output_type": "stream",
       "stream": "stdout",
       "text": [
        "\n",
        "the classifier came back with: 3, the real answer is: 3\n",
        "the classifier came back with: 3, the real answer is: 3"
       ]
      },
      {
       "output_type": "stream",
       "stream": "stdout",
       "text": [
        "\n",
        "the classifier came back with: 3, the real answer is: 3\n",
        "the classifier came back with: 3, the real answer is: 3"
       ]
      },
      {
       "output_type": "stream",
       "stream": "stdout",
       "text": [
        "\n",
        "the classifier came back with: 3, the real answer is: 3\n",
        "the classifier came back with: 3, the real answer is: 3"
       ]
      },
      {
       "output_type": "stream",
       "stream": "stdout",
       "text": [
        "\n",
        "the classifier came back with: 3, the real answer is: 3\n",
        "the classifier came back with: 3, the real answer is: 3"
       ]
      },
      {
       "output_type": "stream",
       "stream": "stdout",
       "text": [
        "\n",
        "the classifier came back with: 3, the real answer is: 3\n",
        "the classifier came back with: 3, the real answer is: 3"
       ]
      },
      {
       "output_type": "stream",
       "stream": "stdout",
       "text": [
        "\n",
        "the classifier came back with: 3, the real answer is: 3\n",
        "the classifier came back with: 3, the real answer is: 3"
       ]
      },
      {
       "output_type": "stream",
       "stream": "stdout",
       "text": [
        "\n",
        "the classifier came back with: 3, the real answer is: 3\n",
        "the classifier came back with: 3, the real answer is: 3"
       ]
      },
      {
       "output_type": "stream",
       "stream": "stdout",
       "text": [
        "\n",
        "the classifier came back with: 3, the real answer is: 3\n",
        "the classifier came back with: 3, the real answer is: 3"
       ]
      },
      {
       "output_type": "stream",
       "stream": "stdout",
       "text": [
        "\n",
        "the classifier came back with: 3, the real answer is: 3\n",
        "the classifier came back with: 3, the real answer is: 3"
       ]
      },
      {
       "output_type": "stream",
       "stream": "stdout",
       "text": [
        "\n",
        "the classifier came back with: 3, the real answer is: 3\n",
        "the classifier came back with: 3, the real answer is: 3"
       ]
      },
      {
       "output_type": "stream",
       "stream": "stdout",
       "text": [
        "\n",
        "the classifier came back with: 3, the real answer is: 3\n",
        "the classifier came back with: 3, the real answer is: 3"
       ]
      },
      {
       "output_type": "stream",
       "stream": "stdout",
       "text": [
        "\n",
        "the classifier came back with: 3, the real answer is: 3\n",
        "the classifier came back with: 3, the real answer is: 3"
       ]
      },
      {
       "output_type": "stream",
       "stream": "stdout",
       "text": [
        "\n",
        "the classifier came back with: 3, the real answer is: 3\n",
        "the classifier came back with: 3, the real answer is: 3"
       ]
      },
      {
       "output_type": "stream",
       "stream": "stdout",
       "text": [
        "\n",
        "the classifier came back with: 3, the real answer is: 3\n",
        "the classifier came back with: 3, the real answer is: 3"
       ]
      },
      {
       "output_type": "stream",
       "stream": "stdout",
       "text": [
        "\n",
        "the classifier came back with: 3, the real answer is: 3\n",
        "the classifier came back with: 3, the real answer is: 3"
       ]
      },
      {
       "output_type": "stream",
       "stream": "stdout",
       "text": [
        "\n",
        "the classifier came back with: 3, the real answer is: 3\n",
        "the classifier came back with: 3, the real answer is: 3"
       ]
      },
      {
       "output_type": "stream",
       "stream": "stdout",
       "text": [
        "\n",
        "the classifier came back with: 3, the real answer is: 3\n",
        "the classifier came back with: 3, the real answer is: 3"
       ]
      },
      {
       "output_type": "stream",
       "stream": "stdout",
       "text": [
        "\n",
        "the classifier came back with: 3, the real answer is: 3\n",
        "the classifier came back with: 3, the real answer is: 3"
       ]
      },
      {
       "output_type": "stream",
       "stream": "stdout",
       "text": [
        "\n",
        "the classifier came back with: 3, the real answer is: 3\n",
        "the classifier came back with: 3, the real answer is: 3"
       ]
      },
      {
       "output_type": "stream",
       "stream": "stdout",
       "text": [
        "\n",
        "the classifier came back with: 3, the real answer is: 3\n",
        "the classifier came back with: 3, the real answer is: 3"
       ]
      },
      {
       "output_type": "stream",
       "stream": "stdout",
       "text": [
        "\n",
        "the classifier came back with: 3, the real answer is: 3\n",
        "the classifier came back with: 3, the real answer is: 3"
       ]
      },
      {
       "output_type": "stream",
       "stream": "stdout",
       "text": [
        "\n",
        "the classifier came back with: 9, the real answer is: 3\n",
        "the classifier came back with: 3, the real answer is: 3"
       ]
      },
      {
       "output_type": "stream",
       "stream": "stdout",
       "text": [
        "\n",
        "the classifier came back with: 3, the real answer is: 3\n",
        "the classifier came back with: 3, the real answer is: 3"
       ]
      },
      {
       "output_type": "stream",
       "stream": "stdout",
       "text": [
        "\n",
        "the classifier came back with: 3, the real answer is: 3\n",
        "the classifier came back with: 3, the real answer is: 3"
       ]
      },
      {
       "output_type": "stream",
       "stream": "stdout",
       "text": [
        "\n",
        "the classifier came back with: 3, the real answer is: 3\n",
        "the classifier came back with: 3, the real answer is: 3"
       ]
      },
      {
       "output_type": "stream",
       "stream": "stdout",
       "text": [
        "\n",
        "the classifier came back with: 3, the real answer is: 3\n",
        "the classifier came back with: 3, the real answer is: 3"
       ]
      },
      {
       "output_type": "stream",
       "stream": "stdout",
       "text": [
        "\n",
        "the classifier came back with: 3, the real answer is: 3\n",
        "the classifier came back with: 3, the real answer is: 3"
       ]
      },
      {
       "output_type": "stream",
       "stream": "stdout",
       "text": [
        "\n",
        "the classifier came back with: 3, the real answer is: 3\n",
        "the classifier came back with: 3, the real answer is: 3"
       ]
      },
      {
       "output_type": "stream",
       "stream": "stdout",
       "text": [
        "\n",
        "the classifier came back with: 3, the real answer is: 3\n",
        "the classifier came back with: 3, the real answer is: 3"
       ]
      },
      {
       "output_type": "stream",
       "stream": "stdout",
       "text": [
        "\n",
        "the classifier came back with: 3, the real answer is: 3\n",
        "the classifier came back with: 3, the real answer is: 3"
       ]
      },
      {
       "output_type": "stream",
       "stream": "stdout",
       "text": [
        "\n",
        "the classifier came back with: 3, the real answer is: 3\n",
        "the classifier came back with: 3, the real answer is: 3"
       ]
      },
      {
       "output_type": "stream",
       "stream": "stdout",
       "text": [
        "\n",
        "the classifier came back with: 3, the real answer is: 3\n",
        "the classifier came back with: 3, the real answer is: 3"
       ]
      },
      {
       "output_type": "stream",
       "stream": "stdout",
       "text": [
        "\n",
        "the classifier came back with: 3, the real answer is: 3\n",
        "the classifier came back with: 3, the real answer is: 3"
       ]
      },
      {
       "output_type": "stream",
       "stream": "stdout",
       "text": [
        "\n",
        "the classifier came back with: 3, the real answer is: 3\n",
        "the classifier came back with: 3, the real answer is: 3"
       ]
      },
      {
       "output_type": "stream",
       "stream": "stdout",
       "text": [
        "\n",
        "the classifier came back with: 3, the real answer is: 3\n",
        "the classifier came back with: 3, the real answer is: 3"
       ]
      },
      {
       "output_type": "stream",
       "stream": "stdout",
       "text": [
        "\n",
        "the classifier came back with: 3, the real answer is: 3\n",
        "the classifier came back with: 3, the real answer is: 3"
       ]
      },
      {
       "output_type": "stream",
       "stream": "stdout",
       "text": [
        "\n",
        "the classifier came back with: 3, the real answer is: 3\n",
        "the classifier came back with: 3, the real answer is: 3"
       ]
      },
      {
       "output_type": "stream",
       "stream": "stdout",
       "text": [
        "\n",
        "the classifier came back with: 4, the real answer is: 4\n",
        "the classifier came back with: 4, the real answer is: 4"
       ]
      },
      {
       "output_type": "stream",
       "stream": "stdout",
       "text": [
        "\n",
        "the classifier came back with: 4, the real answer is: 4\n",
        "the classifier came back with: 4, the real answer is: 4"
       ]
      },
      {
       "output_type": "stream",
       "stream": "stdout",
       "text": [
        "\n",
        "the classifier came back with: 4, the real answer is: 4\n",
        "the classifier came back with: 4, the real answer is: 4"
       ]
      },
      {
       "output_type": "stream",
       "stream": "stdout",
       "text": [
        "\n",
        "the classifier came back with: 4, the real answer is: 4\n",
        "the classifier came back with: 4, the real answer is: 4"
       ]
      },
      {
       "output_type": "stream",
       "stream": "stdout",
       "text": [
        "\n",
        "the classifier came back with: 4, the real answer is: 4\n",
        "the classifier came back with: 4, the real answer is: 4"
       ]
      },
      {
       "output_type": "stream",
       "stream": "stdout",
       "text": [
        "\n",
        "the classifier came back with: 4, the real answer is: 4\n",
        "the classifier came back with: 4, the real answer is: 4"
       ]
      },
      {
       "output_type": "stream",
       "stream": "stdout",
       "text": [
        "\n",
        "the classifier came back with: 4, the real answer is: 4\n",
        "the classifier came back with: 4, the real answer is: 4"
       ]
      },
      {
       "output_type": "stream",
       "stream": "stdout",
       "text": [
        "\n",
        "the classifier came back with: 4, the real answer is: 4\n",
        "the classifier came back with: 4, the real answer is: 4"
       ]
      },
      {
       "output_type": "stream",
       "stream": "stdout",
       "text": [
        "\n",
        "the classifier came back with: 4, the real answer is: 4\n",
        "the classifier came back with: 4, the real answer is: 4"
       ]
      },
      {
       "output_type": "stream",
       "stream": "stdout",
       "text": [
        "\n",
        "the classifier came back with: 4, the real answer is: 4\n",
        "the classifier came back with: 4, the real answer is: 4"
       ]
      },
      {
       "output_type": "stream",
       "stream": "stdout",
       "text": [
        "\n",
        "the classifier came back with: 4, the real answer is: 4\n",
        "the classifier came back with: 4, the real answer is: 4"
       ]
      },
      {
       "output_type": "stream",
       "stream": "stdout",
       "text": [
        "\n",
        "the classifier came back with: 4, the real answer is: 4\n",
        "the classifier came back with: 4, the real answer is: 4"
       ]
      },
      {
       "output_type": "stream",
       "stream": "stdout",
       "text": [
        "\n",
        "the classifier came back with: 4, the real answer is: 4\n",
        "the classifier came back with: 4, the real answer is: 4"
       ]
      },
      {
       "output_type": "stream",
       "stream": "stdout",
       "text": [
        "\n",
        "the classifier came back with: 4, the real answer is: 4\n",
        "the classifier came back with: 4, the real answer is: 4"
       ]
      },
      {
       "output_type": "stream",
       "stream": "stdout",
       "text": [
        "\n",
        "the classifier came back with: 4, the real answer is: 4\n",
        "the classifier came back with: 4, the real answer is: 4"
       ]
      },
      {
       "output_type": "stream",
       "stream": "stdout",
       "text": [
        "\n",
        "the classifier came back with: 4, the real answer is: 4\n",
        "the classifier came back with: 4, the real answer is: 4"
       ]
      },
      {
       "output_type": "stream",
       "stream": "stdout",
       "text": [
        "\n",
        "the classifier came back with: 4, the real answer is: 4\n",
        "the classifier came back with: 4, the real answer is: 4"
       ]
      },
      {
       "output_type": "stream",
       "stream": "stdout",
       "text": [
        "\n",
        "the classifier came back with: 4, the real answer is: 4\n",
        "the classifier came back with: 4, the real answer is: 4"
       ]
      },
      {
       "output_type": "stream",
       "stream": "stdout",
       "text": [
        "\n",
        "the classifier came back with: 4, the real answer is: 4\n",
        "the classifier came back with: 4, the real answer is: 4"
       ]
      },
      {
       "output_type": "stream",
       "stream": "stdout",
       "text": [
        "\n",
        "the classifier came back with: 4, the real answer is: 4\n",
        "the classifier came back with: 4, the real answer is: 4"
       ]
      },
      {
       "output_type": "stream",
       "stream": "stdout",
       "text": [
        "\n",
        "the classifier came back with: 4, the real answer is: 4\n",
        "the classifier came back with: 4, the real answer is: 4"
       ]
      },
      {
       "output_type": "stream",
       "stream": "stdout",
       "text": [
        "\n",
        "the classifier came back with: 4, the real answer is: 4\n",
        "the classifier came back with: 4, the real answer is: 4"
       ]
      },
      {
       "output_type": "stream",
       "stream": "stdout",
       "text": [
        "\n",
        "the classifier came back with: 4, the real answer is: 4\n",
        "the classifier came back with: 4, the real answer is: 4"
       ]
      },
      {
       "output_type": "stream",
       "stream": "stdout",
       "text": [
        "\n",
        "the classifier came back with: 4, the real answer is: 4\n",
        "the classifier came back with: 4, the real answer is: 4"
       ]
      },
      {
       "output_type": "stream",
       "stream": "stdout",
       "text": [
        "\n",
        "the classifier came back with: 4, the real answer is: 4\n",
        "the classifier came back with: 4, the real answer is: 4"
       ]
      },
      {
       "output_type": "stream",
       "stream": "stdout",
       "text": [
        "\n",
        "the classifier came back with: 4, the real answer is: 4\n",
        "the classifier came back with: 4, the real answer is: 4"
       ]
      },
      {
       "output_type": "stream",
       "stream": "stdout",
       "text": [
        "\n",
        "the classifier came back with: 4, the real answer is: 4\n",
        "the classifier came back with: 4, the real answer is: 4"
       ]
      },
      {
       "output_type": "stream",
       "stream": "stdout",
       "text": [
        "\n",
        "the classifier came back with: 4, the real answer is: 4\n",
        "the classifier came back with: 4, the real answer is: 4"
       ]
      },
      {
       "output_type": "stream",
       "stream": "stdout",
       "text": [
        "\n",
        "the classifier came back with: 4, the real answer is: 4\n",
        "the classifier came back with: 4, the real answer is: 4"
       ]
      },
      {
       "output_type": "stream",
       "stream": "stdout",
       "text": [
        "\n",
        "the classifier came back with: 4, the real answer is: 4\n",
        "the classifier came back with: 4, the real answer is: 4"
       ]
      },
      {
       "output_type": "stream",
       "stream": "stdout",
       "text": [
        "\n",
        "the classifier came back with: 4, the real answer is: 4\n",
        "the classifier came back with: 4, the real answer is: 4"
       ]
      },
      {
       "output_type": "stream",
       "stream": "stdout",
       "text": [
        "\n",
        "the classifier came back with: 4, the real answer is: 4\n",
        "the classifier came back with: 4, the real answer is: 4"
       ]
      },
      {
       "output_type": "stream",
       "stream": "stdout",
       "text": [
        "\n",
        "the classifier came back with: 4, the real answer is: 4\n",
        "the classifier came back with: 4, the real answer is: 4"
       ]
      },
      {
       "output_type": "stream",
       "stream": "stdout",
       "text": [
        "\n",
        "the classifier came back with: 4, the real answer is: 4\n",
        "the classifier came back with: 4, the real answer is: 4"
       ]
      },
      {
       "output_type": "stream",
       "stream": "stdout",
       "text": [
        "\n",
        "the classifier came back with: 4, the real answer is: 4\n",
        "the classifier came back with: 4, the real answer is: 4"
       ]
      },
      {
       "output_type": "stream",
       "stream": "stdout",
       "text": [
        "\n",
        "the classifier came back with: 4, the real answer is: 4\n",
        "the classifier came back with: 4, the real answer is: 4"
       ]
      },
      {
       "output_type": "stream",
       "stream": "stdout",
       "text": [
        "\n",
        "the classifier came back with: 4, the real answer is: 4\n",
        "the classifier came back with: 4, the real answer is: 4"
       ]
      },
      {
       "output_type": "stream",
       "stream": "stdout",
       "text": [
        "\n",
        "the classifier came back with: 4, the real answer is: 4\n",
        "the classifier came back with: 4, the real answer is: 4"
       ]
      },
      {
       "output_type": "stream",
       "stream": "stdout",
       "text": [
        "\n",
        "the classifier came back with: 4, the real answer is: 4\n",
        "the classifier came back with: 4, the real answer is: 4"
       ]
      },
      {
       "output_type": "stream",
       "stream": "stdout",
       "text": [
        "\n",
        "the classifier came back with: 4, the real answer is: 4\n",
        "the classifier came back with: 4, the real answer is: 4"
       ]
      },
      {
       "output_type": "stream",
       "stream": "stdout",
       "text": [
        "\n",
        "the classifier came back with: 4, the real answer is: 4\n",
        "the classifier came back with: 4, the real answer is: 4"
       ]
      },
      {
       "output_type": "stream",
       "stream": "stdout",
       "text": [
        "\n",
        "the classifier came back with: 4, the real answer is: 4\n",
        "the classifier came back with: 4, the real answer is: 4"
       ]
      },
      {
       "output_type": "stream",
       "stream": "stdout",
       "text": [
        "\n",
        "the classifier came back with: 4, the real answer is: 4\n",
        "the classifier came back with: 4, the real answer is: 4"
       ]
      },
      {
       "output_type": "stream",
       "stream": "stdout",
       "text": [
        "\n",
        "the classifier came back with: 4, the real answer is: 4\n",
        "the classifier came back with: 4, the real answer is: 4"
       ]
      },
      {
       "output_type": "stream",
       "stream": "stdout",
       "text": [
        "\n",
        "the classifier came back with: 4, the real answer is: 4\n",
        "the classifier came back with: 4, the real answer is: 4"
       ]
      },
      {
       "output_type": "stream",
       "stream": "stdout",
       "text": [
        "\n",
        "the classifier came back with: 4, the real answer is: 4\n",
        "the classifier came back with: 4, the real answer is: 4"
       ]
      },
      {
       "output_type": "stream",
       "stream": "stdout",
       "text": [
        "\n",
        "the classifier came back with: 4, the real answer is: 4\n",
        "the classifier came back with: 4, the real answer is: 4"
       ]
      },
      {
       "output_type": "stream",
       "stream": "stdout",
       "text": [
        "\n",
        "the classifier came back with: 4, the real answer is: 4\n",
        "the classifier came back with: 4, the real answer is: 4"
       ]
      },
      {
       "output_type": "stream",
       "stream": "stdout",
       "text": [
        "\n",
        "the classifier came back with: 4, the real answer is: 4\n",
        "the classifier came back with: 4, the real answer is: 4"
       ]
      },
      {
       "output_type": "stream",
       "stream": "stdout",
       "text": [
        "\n",
        "the classifier came back with: 4, the real answer is: 4\n",
        "the classifier came back with: 4, the real answer is: 4"
       ]
      },
      {
       "output_type": "stream",
       "stream": "stdout",
       "text": [
        "\n",
        "the classifier came back with: 4, the real answer is: 4\n",
        "the classifier came back with: 4, the real answer is: 4"
       ]
      },
      {
       "output_type": "stream",
       "stream": "stdout",
       "text": [
        "\n",
        "the classifier came back with: 4, the real answer is: 4\n",
        "the classifier came back with: 4, the real answer is: 4"
       ]
      },
      {
       "output_type": "stream",
       "stream": "stdout",
       "text": [
        "\n",
        "the classifier came back with: 4, the real answer is: 4\n",
        "the classifier came back with: 4, the real answer is: 4"
       ]
      },
      {
       "output_type": "stream",
       "stream": "stdout",
       "text": [
        "\n",
        "the classifier came back with: 4, the real answer is: 4\n",
        "the classifier came back with: 4, the real answer is: 4"
       ]
      },
      {
       "output_type": "stream",
       "stream": "stdout",
       "text": [
        "\n",
        "the classifier came back with: 4, the real answer is: 4\n",
        "the classifier came back with: 5, the real answer is: 5"
       ]
      },
      {
       "output_type": "stream",
       "stream": "stdout",
       "text": [
        "\n",
        "the classifier came back with: 5, the real answer is: 5\n",
        "the classifier came back with: 5, the real answer is: 5"
       ]
      },
      {
       "output_type": "stream",
       "stream": "stdout",
       "text": [
        "\n",
        "the classifier came back with: 5, the real answer is: 5\n",
        "the classifier came back with: 5, the real answer is: 5"
       ]
      },
      {
       "output_type": "stream",
       "stream": "stdout",
       "text": [
        "\n",
        "the classifier came back with: 5, the real answer is: 5\n",
        "the classifier came back with: 5, the real answer is: 5"
       ]
      },
      {
       "output_type": "stream",
       "stream": "stdout",
       "text": [
        "\n",
        "the classifier came back with: 5, the real answer is: 5\n",
        "the classifier came back with: 5, the real answer is: 5"
       ]
      },
      {
       "output_type": "stream",
       "stream": "stdout",
       "text": [
        "\n",
        "the classifier came back with: 5, the real answer is: 5\n",
        "the classifier came back with: 5, the real answer is: 5"
       ]
      },
      {
       "output_type": "stream",
       "stream": "stdout",
       "text": [
        "\n",
        "the classifier came back with: 5, the real answer is: 5\n",
        "the classifier came back with: 5, the real answer is: 5"
       ]
      },
      {
       "output_type": "stream",
       "stream": "stdout",
       "text": [
        "\n",
        "the classifier came back with: 5, the real answer is: 5\n",
        "the classifier came back with: 5, the real answer is: 5"
       ]
      },
      {
       "output_type": "stream",
       "stream": "stdout",
       "text": [
        "\n",
        "the classifier came back with: 5, the real answer is: 5\n",
        "the classifier came back with: 5, the real answer is: 5"
       ]
      },
      {
       "output_type": "stream",
       "stream": "stdout",
       "text": [
        "\n",
        "the classifier came back with: 5, the real answer is: 5\n",
        "the classifier came back with: 5, the real answer is: 5"
       ]
      },
      {
       "output_type": "stream",
       "stream": "stdout",
       "text": [
        "\n",
        "the classifier came back with: 5, the real answer is: 5\n",
        "the classifier came back with: 5, the real answer is: 5"
       ]
      },
      {
       "output_type": "stream",
       "stream": "stdout",
       "text": [
        "\n",
        "the classifier came back with: 5, the real answer is: 5\n",
        "the classifier came back with: 5, the real answer is: 5"
       ]
      },
      {
       "output_type": "stream",
       "stream": "stdout",
       "text": [
        "\n",
        "the classifier came back with: 5, the real answer is: 5\n",
        "the classifier came back with: 5, the real answer is: 5"
       ]
      },
      {
       "output_type": "stream",
       "stream": "stdout",
       "text": [
        "\n",
        "the classifier came back with: 5, the real answer is: 5\n",
        "the classifier came back with: 5, the real answer is: 5"
       ]
      },
      {
       "output_type": "stream",
       "stream": "stdout",
       "text": [
        "\n",
        "the classifier came back with: 5, the real answer is: 5\n",
        "the classifier came back with: 5, the real answer is: 5"
       ]
      },
      {
       "output_type": "stream",
       "stream": "stdout",
       "text": [
        "\n",
        "the classifier came back with: 5, the real answer is: 5\n",
        "the classifier came back with: 5, the real answer is: 5"
       ]
      },
      {
       "output_type": "stream",
       "stream": "stdout",
       "text": [
        "\n",
        "the classifier came back with: 5, the real answer is: 5"
       ]
      },
      {
       "output_type": "stream",
       "stream": "stdout",
       "text": [
        "\n",
        "the classifier came back with: 5, the real answer is: 5\n",
        "the classifier came back with: 5, the real answer is: 5"
       ]
      },
      {
       "output_type": "stream",
       "stream": "stdout",
       "text": [
        "\n",
        "the classifier came back with: 5, the real answer is: 5\n",
        "the classifier came back with: 5, the real answer is: 5"
       ]
      },
      {
       "output_type": "stream",
       "stream": "stdout",
       "text": [
        "\n",
        "the classifier came back with: 5, the real answer is: 5\n",
        "the classifier came back with: 5, the real answer is: 5"
       ]
      },
      {
       "output_type": "stream",
       "stream": "stdout",
       "text": [
        "\n",
        "the classifier came back with: 5, the real answer is: 5\n",
        "the classifier came back with: 5, the real answer is: 5"
       ]
      },
      {
       "output_type": "stream",
       "stream": "stdout",
       "text": [
        "\n",
        "the classifier came back with: 5, the real answer is: 5\n",
        "the classifier came back with: 5, the real answer is: 5"
       ]
      },
      {
       "output_type": "stream",
       "stream": "stdout",
       "text": [
        "\n",
        "the classifier came back with: 3, the real answer is: 5\n",
        "the classifier came back with: 6, the real answer is: 5"
       ]
      },
      {
       "output_type": "stream",
       "stream": "stdout",
       "text": [
        "\n",
        "the classifier came back with: 5, the real answer is: 5\n",
        "the classifier came back with: 5, the real answer is: 5"
       ]
      },
      {
       "output_type": "stream",
       "stream": "stdout",
       "text": [
        "\n",
        "the classifier came back with: 5, the real answer is: 5"
       ]
      },
      {
       "output_type": "stream",
       "stream": "stdout",
       "text": [
        "\n",
        "the classifier came back with: 5, the real answer is: 5"
       ]
      },
      {
       "output_type": "stream",
       "stream": "stdout",
       "text": [
        "\n",
        "the classifier came back with: 5, the real answer is: 5"
       ]
      },
      {
       "output_type": "stream",
       "stream": "stdout",
       "text": [
        "\n",
        "the classifier came back with: 5, the real answer is: 5"
       ]
      },
      {
       "output_type": "stream",
       "stream": "stdout",
       "text": [
        "\n",
        "the classifier came back with: 5, the real answer is: 5"
       ]
      },
      {
       "output_type": "stream",
       "stream": "stdout",
       "text": [
        "\n",
        "the classifier came back with: 5, the real answer is: 5"
       ]
      },
      {
       "output_type": "stream",
       "stream": "stdout",
       "text": [
        "\n",
        "the classifier came back with: 5, the real answer is: 5"
       ]
      },
      {
       "output_type": "stream",
       "stream": "stdout",
       "text": [
        "\n",
        "the classifier came back with: 5, the real answer is: 5"
       ]
      },
      {
       "output_type": "stream",
       "stream": "stdout",
       "text": [
        "\n",
        "the classifier came back with: 5, the real answer is: 5"
       ]
      },
      {
       "output_type": "stream",
       "stream": "stdout",
       "text": [
        "\n",
        "the classifier came back with: 5, the real answer is: 5"
       ]
      },
      {
       "output_type": "stream",
       "stream": "stdout",
       "text": [
        "\n",
        "the classifier came back with: 5, the real answer is: 5"
       ]
      },
      {
       "output_type": "stream",
       "stream": "stdout",
       "text": [
        "\n",
        "the classifier came back with: 5, the real answer is: 5"
       ]
      },
      {
       "output_type": "stream",
       "stream": "stdout",
       "text": [
        "\n",
        "the classifier came back with: 5, the real answer is: 5"
       ]
      },
      {
       "output_type": "stream",
       "stream": "stdout",
       "text": [
        "\n",
        "the classifier came back with: 5, the real answer is: 5"
       ]
      },
      {
       "output_type": "stream",
       "stream": "stdout",
       "text": [
        "\n",
        "the classifier came back with: 5, the real answer is: 5"
       ]
      },
      {
       "output_type": "stream",
       "stream": "stdout",
       "text": [
        "\n",
        "the classifier came back with: 5, the real answer is: 5"
       ]
      },
      {
       "output_type": "stream",
       "stream": "stdout",
       "text": [
        "\n",
        "the classifier came back with: 5, the real answer is: 5"
       ]
      },
      {
       "output_type": "stream",
       "stream": "stdout",
       "text": [
        "\n",
        "the classifier came back with: 5, the real answer is: 5"
       ]
      },
      {
       "output_type": "stream",
       "stream": "stdout",
       "text": [
        "\n",
        "the classifier came back with: 5, the real answer is: 5"
       ]
      },
      {
       "output_type": "stream",
       "stream": "stdout",
       "text": [
        "\n",
        "the classifier came back with: 5, the real answer is: 5"
       ]
      },
      {
       "output_type": "stream",
       "stream": "stdout",
       "text": [
        "\n",
        "the classifier came back with: 5, the real answer is: 5"
       ]
      },
      {
       "output_type": "stream",
       "stream": "stdout",
       "text": [
        "\n",
        "the classifier came back with: 5, the real answer is: 5"
       ]
      },
      {
       "output_type": "stream",
       "stream": "stdout",
       "text": [
        "\n",
        "the classifier came back with: 5, the real answer is: 5"
       ]
      },
      {
       "output_type": "stream",
       "stream": "stdout",
       "text": [
        "\n",
        "the classifier came back with: 5, the real answer is: 5"
       ]
      },
      {
       "output_type": "stream",
       "stream": "stdout",
       "text": [
        "\n",
        "the classifier came back with: 5, the real answer is: 5"
       ]
      },
      {
       "output_type": "stream",
       "stream": "stdout",
       "text": [
        "\n",
        "the classifier came back with: 5, the real answer is: 5"
       ]
      },
      {
       "output_type": "stream",
       "stream": "stdout",
       "text": [
        "\n",
        "the classifier came back with: 5, the real answer is: 5"
       ]
      },
      {
       "output_type": "stream",
       "stream": "stdout",
       "text": [
        "\n",
        "the classifier came back with: 5, the real answer is: 5"
       ]
      },
      {
       "output_type": "stream",
       "stream": "stdout",
       "text": [
        "\n",
        "the classifier came back with: 5, the real answer is: 5"
       ]
      },
      {
       "output_type": "stream",
       "stream": "stdout",
       "text": [
        "\n",
        "the classifier came back with: 5, the real answer is: 5"
       ]
      },
      {
       "output_type": "stream",
       "stream": "stdout",
       "text": [
        "\n",
        "the classifier came back with: 5, the real answer is: 5"
       ]
      },
      {
       "output_type": "stream",
       "stream": "stdout",
       "text": [
        "\n",
        "the classifier came back with: 5, the real answer is: 5"
       ]
      },
      {
       "output_type": "stream",
       "stream": "stdout",
       "text": [
        "\n",
        "the classifier came back with: 5, the real answer is: 5\n",
        "the classifier came back with: 5, the real answer is: 5"
       ]
      },
      {
       "output_type": "stream",
       "stream": "stdout",
       "text": [
        "\n",
        "the classifier came back with: 5, the real answer is: 5\n",
        "the classifier came back with: 5, the real answer is: 5"
       ]
      },
      {
       "output_type": "stream",
       "stream": "stdout",
       "text": [
        "\n",
        "the classifier came back with: 5, the real answer is: 5\n",
        "the classifier came back with: 5, the real answer is: 5"
       ]
      },
      {
       "output_type": "stream",
       "stream": "stdout",
       "text": [
        "\n",
        "the classifier came back with: 5, the real answer is: 5\n",
        "the classifier came back with: 5, the real answer is: 5"
       ]
      },
      {
       "output_type": "stream",
       "stream": "stdout",
       "text": [
        "\n",
        "the classifier came back with: 5, the real answer is: 5\n",
        "the classifier came back with: 5, the real answer is: 5"
       ]
      },
      {
       "output_type": "stream",
       "stream": "stdout",
       "text": [
        "\n",
        "the classifier came back with: 5, the real answer is: 5\n",
        "the classifier came back with: 5, the real answer is: 5"
       ]
      },
      {
       "output_type": "stream",
       "stream": "stdout",
       "text": [
        "\n",
        "the classifier came back with: 5, the real answer is: 5\n",
        "the classifier came back with: 5, the real answer is: 5"
       ]
      },
      {
       "output_type": "stream",
       "stream": "stdout",
       "text": [
        "\n",
        "the classifier came back with: 5, the real answer is: 5\n",
        "the classifier came back with: 5, the real answer is: 5"
       ]
      },
      {
       "output_type": "stream",
       "stream": "stdout",
       "text": [
        "\n",
        "the classifier came back with: 5, the real answer is: 5\n",
        "the classifier came back with: 5, the real answer is: 5"
       ]
      },
      {
       "output_type": "stream",
       "stream": "stdout",
       "text": [
        "\n",
        "the classifier came back with: 5, the real answer is: 5\n",
        "the classifier came back with: 5, the real answer is: 5"
       ]
      },
      {
       "output_type": "stream",
       "stream": "stdout",
       "text": [
        "\n",
        "the classifier came back with: 5, the real answer is: 5\n",
        "the classifier came back with: 5, the real answer is: 5"
       ]
      },
      {
       "output_type": "stream",
       "stream": "stdout",
       "text": [
        "\n",
        "the classifier came back with: 5, the real answer is: 5\n",
        "the classifier came back with: 5, the real answer is: 5"
       ]
      },
      {
       "output_type": "stream",
       "stream": "stdout",
       "text": [
        "\n",
        "the classifier came back with: 6, the real answer is: 6\n",
        "the classifier came back with: 6, the real answer is: 6"
       ]
      },
      {
       "output_type": "stream",
       "stream": "stdout",
       "text": [
        "\n",
        "the classifier came back with: 6, the real answer is: 6\n",
        "the classifier came back with: 6, the real answer is: 6"
       ]
      },
      {
       "output_type": "stream",
       "stream": "stdout",
       "text": [
        "\n",
        "the classifier came back with: 6, the real answer is: 6\n",
        "the classifier came back with: 6, the real answer is: 6"
       ]
      },
      {
       "output_type": "stream",
       "stream": "stdout",
       "text": [
        "\n",
        "the classifier came back with: 6, the real answer is: 6\n",
        "the classifier came back with: 6, the real answer is: 6"
       ]
      },
      {
       "output_type": "stream",
       "stream": "stdout",
       "text": [
        "\n",
        "the classifier came back with: 6, the real answer is: 6\n",
        "the classifier came back with: 6, the real answer is: 6"
       ]
      },
      {
       "output_type": "stream",
       "stream": "stdout",
       "text": [
        "\n",
        "the classifier came back with: 6, the real answer is: 6\n",
        "the classifier came back with: 6, the real answer is: 6"
       ]
      },
      {
       "output_type": "stream",
       "stream": "stdout",
       "text": [
        "\n",
        "the classifier came back with: 6, the real answer is: 6\n",
        "the classifier came back with: 6, the real answer is: 6"
       ]
      },
      {
       "output_type": "stream",
       "stream": "stdout",
       "text": [
        "\n",
        "the classifier came back with: 6, the real answer is: 6\n",
        "the classifier came back with: 6, the real answer is: 6"
       ]
      },
      {
       "output_type": "stream",
       "stream": "stdout",
       "text": [
        "\n",
        "the classifier came back with: 6, the real answer is: 6\n",
        "the classifier came back with: 6, the real answer is: 6"
       ]
      },
      {
       "output_type": "stream",
       "stream": "stdout",
       "text": [
        "\n",
        "the classifier came back with: 6, the real answer is: 6\n",
        "the classifier came back with: 6, the real answer is: 6"
       ]
      },
      {
       "output_type": "stream",
       "stream": "stdout",
       "text": [
        "\n",
        "the classifier came back with: 6, the real answer is: 6\n",
        "the classifier came back with: 6, the real answer is: 6"
       ]
      },
      {
       "output_type": "stream",
       "stream": "stdout",
       "text": [
        "\n",
        "the classifier came back with: 6, the real answer is: 6\n",
        "the classifier came back with: 6, the real answer is: 6"
       ]
      },
      {
       "output_type": "stream",
       "stream": "stdout",
       "text": [
        "\n",
        "the classifier came back with: 6, the real answer is: 6\n",
        "the classifier came back with: 6, the real answer is: 6"
       ]
      },
      {
       "output_type": "stream",
       "stream": "stdout",
       "text": [
        "\n",
        "the classifier came back with: 6, the real answer is: 6\n",
        "the classifier came back with: 6, the real answer is: 6"
       ]
      },
      {
       "output_type": "stream",
       "stream": "stdout",
       "text": [
        "\n",
        "the classifier came back with: 6, the real answer is: 6\n",
        "the classifier came back with: 6, the real answer is: 6"
       ]
      },
      {
       "output_type": "stream",
       "stream": "stdout",
       "text": [
        "\n",
        "the classifier came back with: 6, the real answer is: 6\n",
        "the classifier came back with: 6, the real answer is: 6"
       ]
      },
      {
       "output_type": "stream",
       "stream": "stdout",
       "text": [
        "\n",
        "the classifier came back with: 6, the real answer is: 6\n",
        "the classifier came back with: 6, the real answer is: 6"
       ]
      },
      {
       "output_type": "stream",
       "stream": "stdout",
       "text": [
        "\n",
        "the classifier came back with: 6, the real answer is: 6\n",
        "the classifier came back with: 6, the real answer is: 6"
       ]
      },
      {
       "output_type": "stream",
       "stream": "stdout",
       "text": [
        "\n",
        "the classifier came back with: 6, the real answer is: 6\n",
        "the classifier came back with: 6, the real answer is: 6"
       ]
      },
      {
       "output_type": "stream",
       "stream": "stdout",
       "text": [
        "\n",
        "the classifier came back with: 6, the real answer is: 6\n",
        "the classifier came back with: 6, the real answer is: 6"
       ]
      },
      {
       "output_type": "stream",
       "stream": "stdout",
       "text": [
        "\n",
        "the classifier came back with: 6, the real answer is: 6\n",
        "the classifier came back with: 6, the real answer is: 6"
       ]
      },
      {
       "output_type": "stream",
       "stream": "stdout",
       "text": [
        "\n",
        "the classifier came back with: 6, the real answer is: 6\n",
        "the classifier came back with: 6, the real answer is: 6"
       ]
      },
      {
       "output_type": "stream",
       "stream": "stdout",
       "text": [
        "\n",
        "the classifier came back with: 6, the real answer is: 6\n",
        "the classifier came back with: 6, the real answer is: 6"
       ]
      },
      {
       "output_type": "stream",
       "stream": "stdout",
       "text": [
        "\n",
        "the classifier came back with: 6, the real answer is: 6\n",
        "the classifier came back with: 6, the real answer is: 6"
       ]
      },
      {
       "output_type": "stream",
       "stream": "stdout",
       "text": [
        "\n",
        "the classifier came back with: 6, the real answer is: 6\n",
        "the classifier came back with: 6, the real answer is: 6"
       ]
      },
      {
       "output_type": "stream",
       "stream": "stdout",
       "text": [
        "\n",
        "the classifier came back with: 6, the real answer is: 6\n",
        "the classifier came back with: 6, the real answer is: 6"
       ]
      },
      {
       "output_type": "stream",
       "stream": "stdout",
       "text": [
        "\n",
        "the classifier came back with: 6, the real answer is: 6\n",
        "the classifier came back with: 6, the real answer is: 6"
       ]
      },
      {
       "output_type": "stream",
       "stream": "stdout",
       "text": [
        "\n",
        "the classifier came back with: 6, the real answer is: 6\n",
        "the classifier came back with: 6, the real answer is: 6"
       ]
      },
      {
       "output_type": "stream",
       "stream": "stdout",
       "text": [
        "\n",
        "the classifier came back with: 6, the real answer is: 6\n",
        "the classifier came back with: 6, the real answer is: 6"
       ]
      },
      {
       "output_type": "stream",
       "stream": "stdout",
       "text": [
        "\n",
        "the classifier came back with: 6, the real answer is: 6\n",
        "the classifier came back with: 6, the real answer is: 6"
       ]
      },
      {
       "output_type": "stream",
       "stream": "stdout",
       "text": [
        "\n",
        "the classifier came back with: 6, the real answer is: 6\n",
        "the classifier came back with: 6, the real answer is: 6"
       ]
      },
      {
       "output_type": "stream",
       "stream": "stdout",
       "text": [
        "\n",
        "the classifier came back with: 6, the real answer is: 6\n",
        "the classifier came back with: 6, the real answer is: 6"
       ]
      },
      {
       "output_type": "stream",
       "stream": "stdout",
       "text": [
        "\n",
        "the classifier came back with: 6, the real answer is: 6\n",
        "the classifier came back with: 6, the real answer is: 6"
       ]
      },
      {
       "output_type": "stream",
       "stream": "stdout",
       "text": [
        "\n",
        "the classifier came back with: 6, the real answer is: 6\n",
        "the classifier came back with: 6, the real answer is: 6"
       ]
      },
      {
       "output_type": "stream",
       "stream": "stdout",
       "text": [
        "\n",
        "the classifier came back with: 6, the real answer is: 6\n",
        "the classifier came back with: 6, the real answer is: 6"
       ]
      },
      {
       "output_type": "stream",
       "stream": "stdout",
       "text": [
        "\n",
        "the classifier came back with: 6, the real answer is: 6"
       ]
      },
      {
       "output_type": "stream",
       "stream": "stdout",
       "text": [
        "\n",
        "the classifier came back with: 6, the real answer is: 6"
       ]
      },
      {
       "output_type": "stream",
       "stream": "stdout",
       "text": [
        "\n",
        "the classifier came back with: 6, the real answer is: 6"
       ]
      },
      {
       "output_type": "stream",
       "stream": "stdout",
       "text": [
        "\n",
        "the classifier came back with: 6, the real answer is: 6"
       ]
      },
      {
       "output_type": "stream",
       "stream": "stdout",
       "text": [
        "\n",
        "the classifier came back with: 6, the real answer is: 6"
       ]
      },
      {
       "output_type": "stream",
       "stream": "stdout",
       "text": [
        "\n",
        "the classifier came back with: 6, the real answer is: 6"
       ]
      },
      {
       "output_type": "stream",
       "stream": "stdout",
       "text": [
        "\n",
        "the classifier came back with: 6, the real answer is: 6"
       ]
      },
      {
       "output_type": "stream",
       "stream": "stdout",
       "text": [
        "\n",
        "the classifier came back with: 6, the real answer is: 6"
       ]
      },
      {
       "output_type": "stream",
       "stream": "stdout",
       "text": [
        "\n",
        "the classifier came back with: 6, the real answer is: 6"
       ]
      },
      {
       "output_type": "stream",
       "stream": "stdout",
       "text": [
        "\n",
        "the classifier came back with: 6, the real answer is: 6"
       ]
      },
      {
       "output_type": "stream",
       "stream": "stdout",
       "text": [
        "\n",
        "the classifier came back with: 6, the real answer is: 6"
       ]
      },
      {
       "output_type": "stream",
       "stream": "stdout",
       "text": [
        "\n",
        "the classifier came back with: 6, the real answer is: 6"
       ]
      },
      {
       "output_type": "stream",
       "stream": "stdout",
       "text": [
        "\n",
        "the classifier came back with: 6, the real answer is: 6"
       ]
      },
      {
       "output_type": "stream",
       "stream": "stdout",
       "text": [
        "\n",
        "the classifier came back with: 7, the real answer is: 7"
       ]
      },
      {
       "output_type": "stream",
       "stream": "stdout",
       "text": [
        "\n",
        "the classifier came back with: 7, the real answer is: 7"
       ]
      },
      {
       "output_type": "stream",
       "stream": "stdout",
       "text": [
        "\n",
        "the classifier came back with: 7, the real answer is: 7"
       ]
      },
      {
       "output_type": "stream",
       "stream": "stdout",
       "text": [
        "\n",
        "the classifier came back with: 7, the real answer is: 7"
       ]
      },
      {
       "output_type": "stream",
       "stream": "stdout",
       "text": [
        "\n",
        "the classifier came back with: 7, the real answer is: 7"
       ]
      },
      {
       "output_type": "stream",
       "stream": "stdout",
       "text": [
        "\n",
        "the classifier came back with: 7, the real answer is: 7"
       ]
      },
      {
       "output_type": "stream",
       "stream": "stdout",
       "text": [
        "\n",
        "the classifier came back with: 7, the real answer is: 7"
       ]
      },
      {
       "output_type": "stream",
       "stream": "stdout",
       "text": [
        "\n",
        "the classifier came back with: 7, the real answer is: 7"
       ]
      },
      {
       "output_type": "stream",
       "stream": "stdout",
       "text": [
        "\n",
        "the classifier came back with: 7, the real answer is: 7"
       ]
      },
      {
       "output_type": "stream",
       "stream": "stdout",
       "text": [
        "\n",
        "the classifier came back with: 7, the real answer is: 7"
       ]
      },
      {
       "output_type": "stream",
       "stream": "stdout",
       "text": [
        "\n",
        "the classifier came back with: 7, the real answer is: 7"
       ]
      },
      {
       "output_type": "stream",
       "stream": "stdout",
       "text": [
        "\n",
        "the classifier came back with: 7, the real answer is: 7"
       ]
      },
      {
       "output_type": "stream",
       "stream": "stdout",
       "text": [
        "\n",
        "the classifier came back with: 7, the real answer is: 7"
       ]
      },
      {
       "output_type": "stream",
       "stream": "stdout",
       "text": [
        "\n",
        "the classifier came back with: 7, the real answer is: 7"
       ]
      },
      {
       "output_type": "stream",
       "stream": "stdout",
       "text": [
        "\n",
        "the classifier came back with: 7, the real answer is: 7"
       ]
      },
      {
       "output_type": "stream",
       "stream": "stdout",
       "text": [
        "\n",
        "the classifier came back with: 7, the real answer is: 7"
       ]
      },
      {
       "output_type": "stream",
       "stream": "stdout",
       "text": [
        "\n",
        "the classifier came back with: 7, the real answer is: 7"
       ]
      },
      {
       "output_type": "stream",
       "stream": "stdout",
       "text": [
        "\n",
        "the classifier came back with: 7, the real answer is: 7"
       ]
      },
      {
       "output_type": "stream",
       "stream": "stdout",
       "text": [
        "\n",
        "the classifier came back with: 7, the real answer is: 7\n",
        "the classifier came back with: 7, the real answer is: 7"
       ]
      },
      {
       "output_type": "stream",
       "stream": "stdout",
       "text": [
        "\n",
        "the classifier came back with: 7, the real answer is: 7\n",
        "the classifier came back with: 7, the real answer is: 7"
       ]
      },
      {
       "output_type": "stream",
       "stream": "stdout",
       "text": [
        "\n",
        "the classifier came back with: 7, the real answer is: 7\n",
        "the classifier came back with: 7, the real answer is: 7"
       ]
      },
      {
       "output_type": "stream",
       "stream": "stdout",
       "text": [
        "\n",
        "the classifier came back with: 7, the real answer is: 7\n",
        "the classifier came back with: 7, the real answer is: 7"
       ]
      },
      {
       "output_type": "stream",
       "stream": "stdout",
       "text": [
        "\n",
        "the classifier came back with: 7, the real answer is: 7\n",
        "the classifier came back with: 7, the real answer is: 7"
       ]
      },
      {
       "output_type": "stream",
       "stream": "stdout",
       "text": [
        "\n",
        "the classifier came back with: 7, the real answer is: 7\n",
        "the classifier came back with: 7, the real answer is: 7"
       ]
      },
      {
       "output_type": "stream",
       "stream": "stdout",
       "text": [
        "\n",
        "the classifier came back with: 7, the real answer is: 7\n",
        "the classifier came back with: 7, the real answer is: 7"
       ]
      },
      {
       "output_type": "stream",
       "stream": "stdout",
       "text": [
        "\n",
        "the classifier came back with: 7, the real answer is: 7\n",
        "the classifier came back with: 7, the real answer is: 7"
       ]
      },
      {
       "output_type": "stream",
       "stream": "stdout",
       "text": [
        "\n",
        "the classifier came back with: 7, the real answer is: 7\n",
        "the classifier came back with: 7, the real answer is: 7"
       ]
      },
      {
       "output_type": "stream",
       "stream": "stdout",
       "text": [
        "\n",
        "the classifier came back with: 7, the real answer is: 7\n",
        "the classifier came back with: 7, the real answer is: 7"
       ]
      },
      {
       "output_type": "stream",
       "stream": "stdout",
       "text": [
        "\n",
        "the classifier came back with: 7, the real answer is: 7\n",
        "the classifier came back with: 7, the real answer is: 7"
       ]
      },
      {
       "output_type": "stream",
       "stream": "stdout",
       "text": [
        "\n",
        "the classifier came back with: 7, the real answer is: 7\n",
        "the classifier came back with: 7, the real answer is: 7"
       ]
      },
      {
       "output_type": "stream",
       "stream": "stdout",
       "text": [
        "\n",
        "the classifier came back with: 7, the real answer is: 7\n",
        "the classifier came back with: 7, the real answer is: 7"
       ]
      },
      {
       "output_type": "stream",
       "stream": "stdout",
       "text": [
        "\n",
        "the classifier came back with: 7, the real answer is: 7\n",
        "the classifier came back with: 7, the real answer is: 7"
       ]
      },
      {
       "output_type": "stream",
       "stream": "stdout",
       "text": [
        "\n",
        "the classifier came back with: 7, the real answer is: 7\n",
        "the classifier came back with: 7, the real answer is: 7"
       ]
      },
      {
       "output_type": "stream",
       "stream": "stdout",
       "text": [
        "\n",
        "the classifier came back with: 7, the real answer is: 7\n",
        "the classifier came back with: 7, the real answer is: 7"
       ]
      },
      {
       "output_type": "stream",
       "stream": "stdout",
       "text": [
        "\n",
        "the classifier came back with: 7, the real answer is: 7\n",
        "the classifier came back with: 7, the real answer is: 7"
       ]
      },
      {
       "output_type": "stream",
       "stream": "stdout",
       "text": [
        "\n",
        "the classifier came back with: 7, the real answer is: 7\n",
        "the classifier came back with: 7, the real answer is: 7"
       ]
      },
      {
       "output_type": "stream",
       "stream": "stdout",
       "text": [
        "\n",
        "the classifier came back with: 7, the real answer is: 7\n",
        "the classifier came back with: 7, the real answer is: 7"
       ]
      },
      {
       "output_type": "stream",
       "stream": "stdout",
       "text": [
        "\n",
        "the classifier came back with: 7, the real answer is: 7\n",
        "the classifier came back with: 7, the real answer is: 7"
       ]
      },
      {
       "output_type": "stream",
       "stream": "stdout",
       "text": [
        "\n",
        "the classifier came back with: 7, the real answer is: 7\n",
        "the classifier came back with: 7, the real answer is: 7"
       ]
      },
      {
       "output_type": "stream",
       "stream": "stdout",
       "text": [
        "\n",
        "the classifier came back with: 7, the real answer is: 7\n",
        "the classifier came back with: 7, the real answer is: 7"
       ]
      },
      {
       "output_type": "stream",
       "stream": "stdout",
       "text": [
        "\n",
        "the classifier came back with: 7, the real answer is: 7\n",
        "the classifier came back with: 7, the real answer is: 7"
       ]
      },
      {
       "output_type": "stream",
       "stream": "stdout",
       "text": [
        "\n",
        "the classifier came back with: 7, the real answer is: 7\n",
        "the classifier came back with: 7, the real answer is: 7"
       ]
      },
      {
       "output_type": "stream",
       "stream": "stdout",
       "text": [
        "\n",
        "the classifier came back with: 7, the real answer is: 7\n",
        "the classifier came back with: 7, the real answer is: 7"
       ]
      },
      {
       "output_type": "stream",
       "stream": "stdout",
       "text": [
        "\n",
        "the classifier came back with: 7, the real answer is: 7\n",
        "the classifier came back with: 7, the real answer is: 7"
       ]
      },
      {
       "output_type": "stream",
       "stream": "stdout",
       "text": [
        "\n",
        "the classifier came back with: 7, the real answer is: 7\n",
        "the classifier came back with: 7, the real answer is: 7"
       ]
      },
      {
       "output_type": "stream",
       "stream": "stdout",
       "text": [
        "\n",
        "the classifier came back with: 7, the real answer is: 7\n",
        "the classifier came back with: 7, the real answer is: 7"
       ]
      },
      {
       "output_type": "stream",
       "stream": "stdout",
       "text": [
        "\n",
        "the classifier came back with: 7, the real answer is: 7\n",
        "the classifier came back with: 7, the real answer is: 7"
       ]
      },
      {
       "output_type": "stream",
       "stream": "stdout",
       "text": [
        "\n",
        "the classifier came back with: 7, the real answer is: 7\n",
        "the classifier came back with: 7, the real answer is: 7"
       ]
      },
      {
       "output_type": "stream",
       "stream": "stdout",
       "text": [
        "\n",
        "the classifier came back with: 7, the real answer is: 7\n",
        "the classifier came back with: 7, the real answer is: 7"
       ]
      },
      {
       "output_type": "stream",
       "stream": "stdout",
       "text": [
        "\n",
        "the classifier came back with: 7, the real answer is: 7\n",
        "the classifier came back with: 7, the real answer is: 7"
       ]
      },
      {
       "output_type": "stream",
       "stream": "stdout",
       "text": [
        "\n",
        "the classifier came back with: 7, the real answer is: 7\n",
        "the classifier came back with: 7, the real answer is: 7"
       ]
      },
      {
       "output_type": "stream",
       "stream": "stdout",
       "text": [
        "\n",
        "the classifier came back with: 7, the real answer is: 7\n",
        "the classifier came back with: 4, the real answer is: 4"
       ]
      },
      {
       "output_type": "stream",
       "stream": "stdout",
       "text": [
        "\n",
        "the classifier came back with: 4, the real answer is: 4\n",
        "the classifier came back with: 4, the real answer is: 4"
       ]
      },
      {
       "output_type": "stream",
       "stream": "stdout",
       "text": [
        "\n",
        "the classifier came back with: 4, the real answer is: 4\n",
        "the classifier came back with: 5, the real answer is: 5"
       ]
      },
      {
       "output_type": "stream",
       "stream": "stdout",
       "text": [
        "\n",
        "the classifier came back with: 5, the real answer is: 5\n",
        "the classifier came back with: 5, the real answer is: 5"
       ]
      },
      {
       "output_type": "stream",
       "stream": "stdout",
       "text": [
        "\n",
        "the classifier came back with: 5, the real answer is: 5\n",
        "the classifier came back with: 5, the real answer is: 5"
       ]
      },
      {
       "output_type": "stream",
       "stream": "stdout",
       "text": [
        "\n",
        "the classifier came back with: 5, the real answer is: 5\n",
        "the classifier came back with: 6, the real answer is: 6"
       ]
      },
      {
       "output_type": "stream",
       "stream": "stdout",
       "text": [
        "\n",
        "the classifier came back with: 6, the real answer is: 6\n",
        "the classifier came back with: 6, the real answer is: 6"
       ]
      },
      {
       "output_type": "stream",
       "stream": "stdout",
       "text": [
        "\n",
        "the classifier came back with: 6, the real answer is: 6\n",
        "the classifier came back with: 7, the real answer is: 7"
       ]
      },
      {
       "output_type": "stream",
       "stream": "stdout",
       "text": [
        "\n",
        "the classifier came back with: 7, the real answer is: 7\n",
        "the classifier came back with: 7, the real answer is: 7"
       ]
      },
      {
       "output_type": "stream",
       "stream": "stdout",
       "text": [
        "\n",
        "the classifier came back with: 7, the real answer is: 7\n",
        "the classifier came back with: 7, the real answer is: 7"
       ]
      },
      {
       "output_type": "stream",
       "stream": "stdout",
       "text": [
        "\n",
        "the classifier came back with: 8, the real answer is: 8\n",
        "the classifier came back with: 8, the real answer is: 8"
       ]
      },
      {
       "output_type": "stream",
       "stream": "stdout",
       "text": [
        "\n",
        "the classifier came back with: 8, the real answer is: 8\n",
        "the classifier came back with: 8, the real answer is: 8"
       ]
      },
      {
       "output_type": "stream",
       "stream": "stdout",
       "text": [
        "\n",
        "the classifier came back with: 9, the real answer is: 9"
       ]
      },
      {
       "output_type": "stream",
       "stream": "stdout",
       "text": [
        "\n",
        "the classifier came back with: 9, the real answer is: 9"
       ]
      },
      {
       "output_type": "stream",
       "stream": "stdout",
       "text": [
        "\n",
        "the classifier came back with: 9, the real answer is: 9"
       ]
      },
      {
       "output_type": "stream",
       "stream": "stdout",
       "text": [
        "\n",
        "the classifier came back with: 9, the real answer is: 9"
       ]
      },
      {
       "output_type": "stream",
       "stream": "stdout",
       "text": [
        "\n",
        "the classifier came back with: 7, the real answer is: 7"
       ]
      },
      {
       "output_type": "stream",
       "stream": "stdout",
       "text": [
        "\n",
        "the classifier came back with: 7, the real answer is: 7"
       ]
      },
      {
       "output_type": "stream",
       "stream": "stdout",
       "text": [
        "\n",
        "the classifier came back with: 7, the real answer is: 7"
       ]
      },
      {
       "output_type": "stream",
       "stream": "stdout",
       "text": [
        "\n",
        "the classifier came back with: 7, the real answer is: 7"
       ]
      },
      {
       "output_type": "stream",
       "stream": "stdout",
       "text": [
        "\n",
        "the classifier came back with: 7, the real answer is: 7"
       ]
      },
      {
       "output_type": "stream",
       "stream": "stdout",
       "text": [
        "\n",
        "the classifier came back with: 7, the real answer is: 7"
       ]
      },
      {
       "output_type": "stream",
       "stream": "stdout",
       "text": [
        "\n",
        "the classifier came back with: 8, the real answer is: 8"
       ]
      },
      {
       "output_type": "stream",
       "stream": "stdout",
       "text": [
        "\n",
        "the classifier came back with: 8, the real answer is: 8"
       ]
      },
      {
       "output_type": "stream",
       "stream": "stdout",
       "text": [
        "\n",
        "the classifier came back with: 8, the real answer is: 8"
       ]
      },
      {
       "output_type": "stream",
       "stream": "stdout",
       "text": [
        "\n",
        "the classifier came back with: 6, the real answer is: 8"
       ]
      },
      {
       "output_type": "stream",
       "stream": "stdout",
       "text": [
        "\n",
        "the classifier came back with: 8, the real answer is: 8"
       ]
      },
      {
       "output_type": "stream",
       "stream": "stdout",
       "text": [
        "\n",
        "the classifier came back with: 8, the real answer is: 8"
       ]
      },
      {
       "output_type": "stream",
       "stream": "stdout",
       "text": [
        "\n",
        "the classifier came back with: 8, the real answer is: 8"
       ]
      },
      {
       "output_type": "stream",
       "stream": "stdout",
       "text": [
        "\n",
        "the classifier came back with: 8, the real answer is: 8"
       ]
      },
      {
       "output_type": "stream",
       "stream": "stdout",
       "text": [
        "\n",
        "the classifier came back with: 8, the real answer is: 8"
       ]
      },
      {
       "output_type": "stream",
       "stream": "stdout",
       "text": [
        "\n",
        "the classifier came back with: 8, the real answer is: 8"
       ]
      },
      {
       "output_type": "stream",
       "stream": "stdout",
       "text": [
        "\n",
        "the classifier came back with: 8, the real answer is: 8"
       ]
      },
      {
       "output_type": "stream",
       "stream": "stdout",
       "text": [
        "\n",
        "the classifier came back with: 8, the real answer is: 8"
       ]
      },
      {
       "output_type": "stream",
       "stream": "stdout",
       "text": [
        "\n",
        "the classifier came back with: 8, the real answer is: 8"
       ]
      },
      {
       "output_type": "stream",
       "stream": "stdout",
       "text": [
        "\n",
        "the classifier came back with: 8, the real answer is: 8"
       ]
      },
      {
       "output_type": "stream",
       "stream": "stdout",
       "text": [
        "\n",
        "the classifier came back with: 8, the real answer is: 8"
       ]
      },
      {
       "output_type": "stream",
       "stream": "stdout",
       "text": [
        "\n",
        "the classifier came back with: 3, the real answer is: 8"
       ]
      },
      {
       "output_type": "stream",
       "stream": "stdout",
       "text": [
        "\n",
        "the classifier came back with: 8, the real answer is: 8"
       ]
      },
      {
       "output_type": "stream",
       "stream": "stdout",
       "text": [
        "\n",
        "the classifier came back with: 8, the real answer is: 8"
       ]
      },
      {
       "output_type": "stream",
       "stream": "stdout",
       "text": [
        "\n",
        "the classifier came back with: 8, the real answer is: 8"
       ]
      },
      {
       "output_type": "stream",
       "stream": "stdout",
       "text": [
        "\n",
        "the classifier came back with: 8, the real answer is: 8"
       ]
      },
      {
       "output_type": "stream",
       "stream": "stdout",
       "text": [
        "\n",
        "the classifier came back with: 8, the real answer is: 8"
       ]
      },
      {
       "output_type": "stream",
       "stream": "stdout",
       "text": [
        "\n",
        "the classifier came back with: 8, the real answer is: 8\n",
        "the classifier came back with: 8, the real answer is: 8"
       ]
      },
      {
       "output_type": "stream",
       "stream": "stdout",
       "text": [
        "\n",
        "the classifier came back with: 8, the real answer is: 8\n",
        "the classifier came back with: 8, the real answer is: 8"
       ]
      },
      {
       "output_type": "stream",
       "stream": "stdout",
       "text": [
        "\n",
        "the classifier came back with: 8, the real answer is: 8\n",
        "the classifier came back with: 8, the real answer is: 8"
       ]
      },
      {
       "output_type": "stream",
       "stream": "stdout",
       "text": [
        "\n",
        "the classifier came back with: 8, the real answer is: 8\n",
        "the classifier came back with: 8, the real answer is: 8"
       ]
      },
      {
       "output_type": "stream",
       "stream": "stdout",
       "text": [
        "\n",
        "the classifier came back with: 1, the real answer is: 8\n",
        "the classifier came back with: 8, the real answer is: 8"
       ]
      },
      {
       "output_type": "stream",
       "stream": "stdout",
       "text": [
        "\n",
        "the classifier came back with: 8, the real answer is: 8\n",
        "the classifier came back with: 8, the real answer is: 8"
       ]
      },
      {
       "output_type": "stream",
       "stream": "stdout",
       "text": [
        "\n",
        "the classifier came back with: 8, the real answer is: 8\n",
        "the classifier came back with: 8, the real answer is: 8"
       ]
      },
      {
       "output_type": "stream",
       "stream": "stdout",
       "text": [
        "\n",
        "the classifier came back with: 8, the real answer is: 8\n",
        "the classifier came back with: 8, the real answer is: 8"
       ]
      },
      {
       "output_type": "stream",
       "stream": "stdout",
       "text": [
        "\n",
        "the classifier came back with: 8, the real answer is: 8\n",
        "the classifier came back with: 1, the real answer is: 8"
       ]
      },
      {
       "output_type": "stream",
       "stream": "stdout",
       "text": [
        "\n",
        "the classifier came back with: 8, the real answer is: 8\n",
        "the classifier came back with: 8, the real answer is: 8"
       ]
      },
      {
       "output_type": "stream",
       "stream": "stdout",
       "text": [
        "\n",
        "the classifier came back with: 8, the real answer is: 8\n",
        "the classifier came back with: 8, the real answer is: 8"
       ]
      },
      {
       "output_type": "stream",
       "stream": "stdout",
       "text": [
        "\n",
        "the classifier came back with: 8, the real answer is: 8\n",
        "the classifier came back with: 8, the real answer is: 8"
       ]
      },
      {
       "output_type": "stream",
       "stream": "stdout",
       "text": [
        "\n",
        "the classifier came back with: 8, the real answer is: 8\n",
        "the classifier came back with: 8, the real answer is: 8"
       ]
      },
      {
       "output_type": "stream",
       "stream": "stdout",
       "text": [
        "\n",
        "the classifier came back with: 8, the real answer is: 8\n",
        "the classifier came back with: 8, the real answer is: 8"
       ]
      },
      {
       "output_type": "stream",
       "stream": "stdout",
       "text": [
        "\n",
        "the classifier came back with: 8, the real answer is: 8\n",
        "the classifier came back with: 8, the real answer is: 8"
       ]
      },
      {
       "output_type": "stream",
       "stream": "stdout",
       "text": [
        "\n",
        "the classifier came back with: 8, the real answer is: 8\n",
        "the classifier came back with: 8, the real answer is: 8"
       ]
      },
      {
       "output_type": "stream",
       "stream": "stdout",
       "text": [
        "\n",
        "the classifier came back with: 8, the real answer is: 8\n",
        "the classifier came back with: 8, the real answer is: 8"
       ]
      },
      {
       "output_type": "stream",
       "stream": "stdout",
       "text": [
        "\n",
        "the classifier came back with: 8, the real answer is: 8\n",
        "the classifier came back with: 8, the real answer is: 8"
       ]
      },
      {
       "output_type": "stream",
       "stream": "stdout",
       "text": [
        "\n",
        "the classifier came back with: 8, the real answer is: 8\n",
        "the classifier came back with: 8, the real answer is: 8"
       ]
      },
      {
       "output_type": "stream",
       "stream": "stdout",
       "text": [
        "\n",
        "the classifier came back with: 8, the real answer is: 8\n",
        "the classifier came back with: 8, the real answer is: 8"
       ]
      },
      {
       "output_type": "stream",
       "stream": "stdout",
       "text": [
        "\n",
        "the classifier came back with: 8, the real answer is: 8\n",
        "the classifier came back with: 1, the real answer is: 8"
       ]
      },
      {
       "output_type": "stream",
       "stream": "stdout",
       "text": [
        "\n",
        "the classifier came back with: 8, the real answer is: 8\n",
        "the classifier came back with: 8, the real answer is: 8"
       ]
      },
      {
       "output_type": "stream",
       "stream": "stdout",
       "text": [
        "\n",
        "the classifier came back with: 8, the real answer is: 8\n",
        "the classifier came back with: 8, the real answer is: 8"
       ]
      },
      {
       "output_type": "stream",
       "stream": "stdout",
       "text": [
        "\n",
        "the classifier came back with: 8, the real answer is: 8\n",
        "the classifier came back with: 8, the real answer is: 8"
       ]
      },
      {
       "output_type": "stream",
       "stream": "stdout",
       "text": [
        "\n",
        "the classifier came back with: 8, the real answer is: 8\n",
        "the classifier came back with: 8, the real answer is: 8"
       ]
      },
      {
       "output_type": "stream",
       "stream": "stdout",
       "text": [
        "\n",
        "the classifier came back with: 8, the real answer is: 8\n",
        "the classifier came back with: 8, the real answer is: 8"
       ]
      },
      {
       "output_type": "stream",
       "stream": "stdout",
       "text": [
        "\n",
        "the classifier came back with: 8, the real answer is: 8\n",
        "the classifier came back with: 8, the real answer is: 8"
       ]
      },
      {
       "output_type": "stream",
       "stream": "stdout",
       "text": [
        "\n",
        "the classifier came back with: 8, the real answer is: 8\n",
        "the classifier came back with: 8, the real answer is: 8"
       ]
      },
      {
       "output_type": "stream",
       "stream": "stdout",
       "text": [
        "\n",
        "the classifier came back with: 8, the real answer is: 8\n",
        "the classifier came back with: 8, the real answer is: 8"
       ]
      },
      {
       "output_type": "stream",
       "stream": "stdout",
       "text": [
        "\n",
        "the classifier came back with: 8, the real answer is: 8\n",
        "the classifier came back with: 8, the real answer is: 8"
       ]
      },
      {
       "output_type": "stream",
       "stream": "stdout",
       "text": [
        "\n",
        "the classifier came back with: 8, the real answer is: 8\n",
        "the classifier came back with: 8, the real answer is: 8"
       ]
      },
      {
       "output_type": "stream",
       "stream": "stdout",
       "text": [
        "\n",
        "the classifier came back with: 8, the real answer is: 8\n",
        "the classifier came back with: 8, the real answer is: 8"
       ]
      },
      {
       "output_type": "stream",
       "stream": "stdout",
       "text": [
        "\n",
        "the classifier came back with: 8, the real answer is: 8\n",
        "the classifier came back with: 8, the real answer is: 8"
       ]
      },
      {
       "output_type": "stream",
       "stream": "stdout",
       "text": [
        "\n",
        "the classifier came back with: 9, the real answer is: 9\n",
        "the classifier came back with: 9, the real answer is: 9"
       ]
      },
      {
       "output_type": "stream",
       "stream": "stdout",
       "text": [
        "\n",
        "the classifier came back with: 9, the real answer is: 9\n",
        "the classifier came back with: 9, the real answer is: 9"
       ]
      },
      {
       "output_type": "stream",
       "stream": "stdout",
       "text": [
        "\n",
        "the classifier came back with: 9, the real answer is: 9\n",
        "the classifier came back with: 1, the real answer is: 9"
       ]
      },
      {
       "output_type": "stream",
       "stream": "stdout",
       "text": [
        "\n",
        "the classifier came back with: 9, the real answer is: 9\n",
        "the classifier came back with: 9, the real answer is: 9"
       ]
      },
      {
       "output_type": "stream",
       "stream": "stdout",
       "text": [
        "\n",
        "the classifier came back with: 9, the real answer is: 9\n",
        "the classifier came back with: 9, the real answer is: 9"
       ]
      },
      {
       "output_type": "stream",
       "stream": "stdout",
       "text": [
        "\n",
        "the classifier came back with: 9, the real answer is: 9\n",
        "the classifier came back with: 9, the real answer is: 9"
       ]
      },
      {
       "output_type": "stream",
       "stream": "stdout",
       "text": [
        "\n",
        "the classifier came back with: 9, the real answer is: 9\n",
        "the classifier came back with: 9, the real answer is: 9"
       ]
      },
      {
       "output_type": "stream",
       "stream": "stdout",
       "text": [
        "\n",
        "the classifier came back with: 9, the real answer is: 9\n",
        "the classifier came back with: 9, the real answer is: 9"
       ]
      },
      {
       "output_type": "stream",
       "stream": "stdout",
       "text": [
        "\n",
        "the classifier came back with: 9, the real answer is: 9\n",
        "the classifier came back with: 9, the real answer is: 9"
       ]
      },
      {
       "output_type": "stream",
       "stream": "stdout",
       "text": [
        "\n",
        "the classifier came back with: 9, the real answer is: 9\n",
        "the classifier came back with: 9, the real answer is: 9"
       ]
      },
      {
       "output_type": "stream",
       "stream": "stdout",
       "text": [
        "\n",
        "the classifier came back with: 9, the real answer is: 9\n",
        "the classifier came back with: 9, the real answer is: 9"
       ]
      },
      {
       "output_type": "stream",
       "stream": "stdout",
       "text": [
        "\n",
        "the classifier came back with: 9, the real answer is: 9\n",
        "the classifier came back with: 9, the real answer is: 9"
       ]
      },
      {
       "output_type": "stream",
       "stream": "stdout",
       "text": [
        "\n",
        "the classifier came back with: 9, the real answer is: 9\n",
        "the classifier came back with: 9, the real answer is: 9"
       ]
      },
      {
       "output_type": "stream",
       "stream": "stdout",
       "text": [
        "\n",
        "the classifier came back with: 9, the real answer is: 9\n",
        "the classifier came back with: 9, the real answer is: 9"
       ]
      },
      {
       "output_type": "stream",
       "stream": "stdout",
       "text": [
        "\n",
        "the classifier came back with: 9, the real answer is: 9"
       ]
      },
      {
       "output_type": "stream",
       "stream": "stdout",
       "text": [
        "\n",
        "the classifier came back with: 9, the real answer is: 9"
       ]
      },
      {
       "output_type": "stream",
       "stream": "stdout",
       "text": [
        "\n",
        "the classifier came back with: 9, the real answer is: 9"
       ]
      },
      {
       "output_type": "stream",
       "stream": "stdout",
       "text": [
        "\n",
        "the classifier came back with: 9, the real answer is: 9"
       ]
      },
      {
       "output_type": "stream",
       "stream": "stdout",
       "text": [
        "\n",
        "the classifier came back with: 9, the real answer is: 9"
       ]
      },
      {
       "output_type": "stream",
       "stream": "stdout",
       "text": [
        "\n",
        "the classifier came back with: 9, the real answer is: 9"
       ]
      },
      {
       "output_type": "stream",
       "stream": "stdout",
       "text": [
        "\n",
        "the classifier came back with: 9, the real answer is: 9"
       ]
      },
      {
       "output_type": "stream",
       "stream": "stdout",
       "text": [
        "\n",
        "the classifier came back with: 9, the real answer is: 9"
       ]
      },
      {
       "output_type": "stream",
       "stream": "stdout",
       "text": [
        "\n",
        "the classifier came back with: 9, the real answer is: 9"
       ]
      },
      {
       "output_type": "stream",
       "stream": "stdout",
       "text": [
        "\n",
        "the classifier came back with: 9, the real answer is: 9"
       ]
      },
      {
       "output_type": "stream",
       "stream": "stdout",
       "text": [
        "\n",
        "the classifier came back with: 9, the real answer is: 9"
       ]
      },
      {
       "output_type": "stream",
       "stream": "stdout",
       "text": [
        "\n",
        "the classifier came back with: 9, the real answer is: 9"
       ]
      },
      {
       "output_type": "stream",
       "stream": "stdout",
       "text": [
        "\n",
        "the classifier came back with: 9, the real answer is: 9"
       ]
      },
      {
       "output_type": "stream",
       "stream": "stdout",
       "text": [
        "\n",
        "the classifier came back with: 9, the real answer is: 9"
       ]
      },
      {
       "output_type": "stream",
       "stream": "stdout",
       "text": [
        "\n",
        "the classifier came back with: 9, the real answer is: 9"
       ]
      },
      {
       "output_type": "stream",
       "stream": "stdout",
       "text": [
        "\n",
        "the classifier came back with: 9, the real answer is: 9"
       ]
      },
      {
       "output_type": "stream",
       "stream": "stdout",
       "text": [
        "\n",
        "the classifier came back with: 9, the real answer is: 9"
       ]
      },
      {
       "output_type": "stream",
       "stream": "stdout",
       "text": [
        "\n",
        "the classifier came back with: 9, the real answer is: 9"
       ]
      },
      {
       "output_type": "stream",
       "stream": "stdout",
       "text": [
        "\n",
        "the classifier came back with: 9, the real answer is: 9"
       ]
      },
      {
       "output_type": "stream",
       "stream": "stdout",
       "text": [
        "\n",
        "the classifier came back with: 9, the real answer is: 9"
       ]
      },
      {
       "output_type": "stream",
       "stream": "stdout",
       "text": [
        "\n",
        "the classifier came back with: 9, the real answer is: 9"
       ]
      },
      {
       "output_type": "stream",
       "stream": "stdout",
       "text": [
        "\n",
        "the classifier came back with: 9, the real answer is: 9"
       ]
      },
      {
       "output_type": "stream",
       "stream": "stdout",
       "text": [
        "\n",
        "the classifier came back with: 9, the real answer is: 9"
       ]
      },
      {
       "output_type": "stream",
       "stream": "stdout",
       "text": [
        "\n",
        "the classifier came back with: 9, the real answer is: 9"
       ]
      },
      {
       "output_type": "stream",
       "stream": "stdout",
       "text": [
        "\n",
        "the classifier came back with: 9, the real answer is: 9"
       ]
      },
      {
       "output_type": "stream",
       "stream": "stdout",
       "text": [
        "\n",
        "the classifier came back with: 9, the real answer is: 9"
       ]
      },
      {
       "output_type": "stream",
       "stream": "stdout",
       "text": [
        "\n",
        "the classifier came back with: 7, the real answer is: 9"
       ]
      },
      {
       "output_type": "stream",
       "stream": "stdout",
       "text": [
        "\n",
        "the classifier came back with: 9, the real answer is: 9"
       ]
      },
      {
       "output_type": "stream",
       "stream": "stdout",
       "text": [
        "\n",
        "the classifier came back with: 9, the real answer is: 9"
       ]
      },
      {
       "output_type": "stream",
       "stream": "stdout",
       "text": [
        "\n",
        "the classifier came back with: 9, the real answer is: 9"
       ]
      },
      {
       "output_type": "stream",
       "stream": "stdout",
       "text": [
        "\n",
        "the classifier came back with: 9, the real answer is: 9\n",
        "the classifier came back with: 9, the real answer is: 9"
       ]
      },
      {
       "output_type": "stream",
       "stream": "stdout",
       "text": [
        "\n",
        "the classifier came back with: 9, the real answer is: 9\n",
        "the classifier came back with: 9, the real answer is: 9"
       ]
      },
      {
       "output_type": "stream",
       "stream": "stdout",
       "text": [
        "\n",
        "the classifier came back with: 9, the real answer is: 9\n",
        "the classifier came back with: 9, the real answer is: 9"
       ]
      },
      {
       "output_type": "stream",
       "stream": "stdout",
       "text": [
        "\n",
        "the classifier came back with: 9, the real answer is: 9\n",
        "the classifier came back with: 9, the real answer is: 9"
       ]
      },
      {
       "output_type": "stream",
       "stream": "stdout",
       "text": [
        "\n",
        "the classifier came back with: 9, the real answer is: 9\n",
        "the classifier came back with: 9, the real answer is: 9"
       ]
      },
      {
       "output_type": "stream",
       "stream": "stdout",
       "text": [
        "\n",
        "the classifier came back with: 9, the real answer is: 9\n",
        "the classifier came back with: 9, the real answer is: 9"
       ]
      },
      {
       "output_type": "stream",
       "stream": "stdout",
       "text": [
        "\n",
        "the classifier came back with: 9, the real answer is: 9\n",
        "the classifier came back with: 9, the real answer is: 9"
       ]
      },
      {
       "output_type": "stream",
       "stream": "stdout",
       "text": [
        "\n",
        "the classifier came back with: 9, the real answer is: 9\n",
        "the classifier came back with: 9, the real answer is: 9"
       ]
      },
      {
       "output_type": "stream",
       "stream": "stdout",
       "text": [
        "\n",
        "the classifier came back with: 9, the real answer is: 9\n",
        "the classifier came back with: 9, the real answer is: 9"
       ]
      },
      {
       "output_type": "stream",
       "stream": "stdout",
       "text": [
        "\n",
        "the classifier came back with: 9, the real answer is: 9\n",
        "the classifier came back with: 9, the real answer is: 9"
       ]
      },
      {
       "output_type": "stream",
       "stream": "stdout",
       "text": [
        "\n",
        "the classifier came back with: 9, the real answer is: 9\n",
        "the classifier came back with: 9, the real answer is: 9"
       ]
      },
      {
       "output_type": "stream",
       "stream": "stdout",
       "text": [
        "\n",
        "the classifier came back with: 9, the real answer is: 9\n",
        "the classifier came back with: 9, the real answer is: 9"
       ]
      },
      {
       "output_type": "stream",
       "stream": "stdout",
       "text": [
        "\n",
        "the classifier came back with: 9, the real answer is: 9\n",
        "the classifier came back with: 9, the real answer is: 9"
       ]
      },
      {
       "output_type": "stream",
       "stream": "stdout",
       "text": [
        "\n",
        "the classifier came back with: 9, the real answer is: 9\n",
        "\n",
        "the total number of errors is: 12\n",
        "\n",
        "the total error rate is: 0.012685\n"
       ]
      }
     ],
     "prompt_number": 48
    },
    {
     "cell_type": "code",
     "collapsed": false,
     "input": [
      "kNN.CreateDataSet()"
     ],
     "language": "python",
     "metadata": {},
     "outputs": [
      {
       "ename": "AttributeError",
       "evalue": "'module' object has no attribute 'CreateDataSet'",
       "output_type": "pyerr",
       "traceback": [
        "\u001b[0;31m---------------------------------------------------------------------------\u001b[0m\n\u001b[0;31mAttributeError\u001b[0m                            Traceback (most recent call last)",
        "\u001b[0;32m<ipython-input-50-5af087d9c5bb>\u001b[0m in \u001b[0;36m<module>\u001b[0;34m()\u001b[0m\n\u001b[0;32m----> 1\u001b[0;31m \u001b[0mkNN\u001b[0m\u001b[0;34m.\u001b[0m\u001b[0mCreateDataSet\u001b[0m\u001b[0;34m(\u001b[0m\u001b[0;34m)\u001b[0m\u001b[0;34m\u001b[0m\u001b[0m\n\u001b[0m",
        "\u001b[0;31mAttributeError\u001b[0m: 'module' object has no attribute 'CreateDataSet'"
       ]
      }
     ],
     "prompt_number": 50
    },
    {
     "cell_type": "code",
     "collapsed": false,
     "input": [
      "group, labels = kNN.createDataSet()"
     ],
     "language": "python",
     "metadata": {},
     "outputs": [],
     "prompt_number": 52
    },
    {
     "cell_type": "code",
     "collapsed": false,
     "input": [
      "kNN.classify0([0,0], group, labels, 3)"
     ],
     "language": "python",
     "metadata": {},
     "outputs": [
      {
       "metadata": {},
       "output_type": "pyout",
       "prompt_number": 53,
       "text": [
        "'B'"
       ]
      }
     ],
     "prompt_number": 53
    },
    {
     "cell_type": "code",
     "collapsed": false,
     "input": [
      "group"
     ],
     "language": "python",
     "metadata": {},
     "outputs": [
      {
       "metadata": {},
       "output_type": "pyout",
       "prompt_number": 54,
       "text": [
        "array([[ 1. ,  1.1],\n",
        "       [ 1. ,  1. ],\n",
        "       [ 0. ,  0. ],\n",
        "       [ 0. ,  0.1]])"
       ]
      }
     ],
     "prompt_number": 54
    },
    {
     "cell_type": "code",
     "collapsed": false,
     "input": [
      "labels"
     ],
     "language": "python",
     "metadata": {},
     "outputs": [
      {
       "metadata": {},
       "output_type": "pyout",
       "prompt_number": 55,
       "text": [
        "['A', 'A', 'B', 'B']"
       ]
      }
     ],
     "prompt_number": 55
    },
    {
     "cell_type": "code",
     "collapsed": false,
     "input": [
      "classcount = {'he':3, 'wang':2}"
     ],
     "language": "python",
     "metadata": {},
     "outputs": [],
     "prompt_number": 92
    },
    {
     "cell_type": "code",
     "collapsed": false,
     "input": [
      ".get(2,3)"
     ],
     "language": "python",
     "metadata": {},
     "outputs": [
      {
       "metadata": {},
       "output_type": "pyout",
       "prompt_number": 67,
       "text": [
        "3"
       ]
      }
     ],
     "prompt_number": 67
    },
    {
     "cell_type": "code",
     "collapsed": false,
     "input": [
      "help(sorted)"
     ],
     "language": "python",
     "metadata": {},
     "outputs": [
      {
       "output_type": "stream",
       "stream": "stdout",
       "text": [
        "Help on built-in function sorted in module __builtin__:\n",
        "\n",
        "sorted(...)\n",
        "    sorted(iterable, cmp=None, key=None, reverse=False) --> new sorted list\n",
        "\n"
       ]
      }
     ],
     "prompt_number": 71
    },
    {
     "cell_type": "code",
     "collapsed": false,
     "input": [
      "operator.itemgetter(1)"
     ],
     "language": "python",
     "metadata": {},
     "outputs": [
      {
       "ename": "NameError",
       "evalue": "name 'operator' is not defined",
       "output_type": "pyerr",
       "traceback": [
        "\u001b[0;31m---------------------------------------------------------------------------\u001b[0m\n\u001b[0;31mNameError\u001b[0m                                 Traceback (most recent call last)",
        "\u001b[0;32m<ipython-input-72-cf06d086d3fb>\u001b[0m in \u001b[0;36m<module>\u001b[0;34m()\u001b[0m\n\u001b[0;32m----> 1\u001b[0;31m \u001b[0moperator\u001b[0m\u001b[0;34m.\u001b[0m\u001b[0mitemgetter\u001b[0m\u001b[0;34m(\u001b[0m\u001b[0;36m1\u001b[0m\u001b[0;34m)\u001b[0m\u001b[0;34m\u001b[0m\u001b[0m\n\u001b[0m",
        "\u001b[0;31mNameError\u001b[0m: name 'operator' is not defined"
       ]
      }
     ],
     "prompt_number": 72
    },
    {
     "cell_type": "code",
     "collapsed": false,
     "input": [
      "classcount.iteritems()"
     ],
     "language": "python",
     "metadata": {},
     "outputs": [
      {
       "metadata": {},
       "output_type": "pyout",
       "prompt_number": 78,
       "text": [
        "<dictionary-itemiterator at 0x7f39e5b2e050>"
       ]
      }
     ],
     "prompt_number": 78
    },
    {
     "cell_type": "code",
     "collapsed": false,
     "input": [
      "d = sorted(classcount.iteritems(), key=operator.itemgetter(1), reverse=True)"
     ],
     "language": "python",
     "metadata": {},
     "outputs": [],
     "prompt_number": 94
    },
    {
     "cell_type": "code",
     "collapsed": false,
     "input": [
      "import operator"
     ],
     "language": "python",
     "metadata": {},
     "outputs": [],
     "prompt_number": 82
    },
    {
     "cell_type": "code",
     "collapsed": false,
     "input": [
      "d[0][0]"
     ],
     "language": "python",
     "metadata": {},
     "outputs": [
      {
       "metadata": {},
       "output_type": "pyout",
       "prompt_number": 95,
       "text": [
        "'he'"
       ]
      }
     ],
     "prompt_number": 95
    },
    {
     "cell_type": "code",
     "collapsed": false,
     "input": [
      "import matplotlib"
     ],
     "language": "python",
     "metadata": {},
     "outputs": [],
     "prompt_number": 96
    },
    {
     "cell_type": "code",
     "collapsed": false,
     "input": [
      "import matplotlib.pyplot as plt"
     ],
     "language": "python",
     "metadata": {},
     "outputs": [],
     "prompt_number": 97
    },
    {
     "cell_type": "code",
     "collapsed": false,
     "input": [
      "fig = plt.figure()"
     ],
     "language": "python",
     "metadata": {},
     "outputs": [],
     "prompt_number": 98
    },
    {
     "cell_type": "code",
     "collapsed": false,
     "input": [
      "reload(kNN)"
     ],
     "language": "python",
     "metadata": {},
     "outputs": [
      {
       "metadata": {},
       "output_type": "pyout",
       "prompt_number": 99,
       "text": [
        "<module 'kNN' from 'kNN.pyc'>"
       ]
      }
     ],
     "prompt_number": 99
    },
    {
     "cell_type": "code",
     "collapsed": false,
     "input": [
      "datingDataMat, datingLables = kNN.file2matrix('datingTestSet.txt')"
     ],
     "language": "python",
     "metadata": {},
     "outputs": [],
     "prompt_number": 101
    },
    {
     "cell_type": "code",
     "collapsed": false,
     "input": [
      "ax = fig.add_subplot(111)"
     ],
     "language": "python",
     "metadata": {},
     "outputs": [],
     "prompt_number": 102
    },
    {
     "cell_type": "code",
     "collapsed": false,
     "input": [
      "ax.scatter(datingDataMat[:, 1], datingDataMat[:, 2])"
     ],
     "language": "python",
     "metadata": {},
     "outputs": [
      {
       "metadata": {},
       "output_type": "pyout",
       "prompt_number": 103,
       "text": [
        "<matplotlib.collections.PathCollection at 0x7f39ded08e90>"
       ]
      }
     ],
     "prompt_number": 103
    },
    {
     "cell_type": "code",
     "collapsed": false,
     "input": [
      "plt.show()"
     ],
     "language": "python",
     "metadata": {},
     "outputs": [],
     "prompt_number": 104
    },
    {
     "cell_type": "code",
     "collapsed": false,
     "input": [
      "ax.scatter(datingDataMat[:, 1], datingDataMat[:, 2],\n",
      "           ax.scatter(datingDataMat[:, 1], datingDataMat[:, 2]))"
     ],
     "language": "python",
     "metadata": {},
     "outputs": [
      {
       "metadata": {},
       "output_type": "pyout",
       "prompt_number": 105,
       "text": [
        "<matplotlib.collections.PathCollection at 0x7f39dec74ed0>"
       ]
      }
     ],
     "prompt_number": 105
    },
    {
     "cell_type": "code",
     "collapsed": false,
     "input": [
      "plt.show()"
     ],
     "language": "python",
     "metadata": {},
     "outputs": [],
     "prompt_number": 107
    },
    {
     "cell_type": "code",
     "collapsed": false,
     "input": [],
     "language": "python",
     "metadata": {},
     "outputs": []
    }
   ],
   "metadata": {}
  }
 ]
}