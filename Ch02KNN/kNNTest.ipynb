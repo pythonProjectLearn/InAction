{
 "metadata": {
  "name": ""
 },
 "nbformat": 3,
 "nbformat_minor": 0,
 "worksheets": [
  {
   "cells": [
    {
     "cell_type": "code",
     "collapsed": false,
     "input": [
      "#!/usr/bin/python\n",
      "\"\"\"\n",
      "\u7b2c2\u7ae0knn\n",
      "\"\"\"\n",
      "#\u4fee\u6539\u7a0b\u5e8f\u5b57\u7b26\uff1b\u6dfb\u52a0\u7a0b\u5e8f\u8def\u5f84\n",
      "import sys\n",
      "reload(sys)\n",
      "sys.setdefaultencoding('utf-8')\n",
      "sys.path.append('/media/hadoop/\u8f6f\u4ef6\u76d8/workspace/python_project/src/machine learning/Ch02')\n",
      "\n",
      "#\u67e5\u770b\u5f53\u524d\u76ee\u5f55\n",
      "import os\n",
      "print os.getcwd()\n",
      "#\u5207\u6362\u5f53\u524d\u76ee\u5f55\n",
      "os.chdir('/media/hadoop/\u8f6f\u4ef6\u76d8/workspace/python_project/src/machine learning/Ch02')\n",
      "\n",
      "import kNN\n",
      "#\u53ea\u6709import kNN\u540e\u624d\u80fd\u5229\u7528reload()\u8c03\u7528\u7a0b\u5e8fkNN.pyc\n",
      "reload(kNN)  \n",
      "\n",
      "#########2.2.1\u4ece\u6587\u672c\u4e2d\u89e3\u6790\u6570\u636e  #################\n",
      "datingDataMat, datingLables = kNN.file2matrix('datingTestSet.txt')\n",
      "datingLables[0:20] \n",
      "\n",
      "#########2.2.2\u5206\u6790\u6570\u636e\uff0cMatplotlib\u521b\u5efa\u6563\u70b9\u56fe#############################\n",
      "import matplotlib\n",
      "import matplotlib.pyplot as plt\n",
      "fig = plt.figure()\n",
      "ax = fig.add_subplot(111)\n",
      "ax.scatter(datingDataMat[:, 1], datingDataMat[:, 2])\n",
      "ax.scatter(datingDataMat[:, 1], datingDataMat[:, 2],\n",
      "           ax.scatter(datingDataMat[:, 1], datingDataMat[:, 2]))\n",
      "plt.show()\n",
      "plt.close()\n",
      "\n",
      "################2.2.3 \u51c6\u5907\u6570\u636e\uff1a\u5f52\u4e00\u5316################\n",
      "reload(kNN)\n",
      "normMat, ranges, minVals = kNN.autoNorm(datingDataMat)\n",
      "normMat[:20]\n",
      "ranges[:20]\n",
      "minVals[:20]\n",
      "\n",
      "#\u6bcf\u4fee\u6539\u4e00\u6b21kNN.py\u90fd\u8981\u91cd\u65b0\u8f7d\u5165kNN\n",
      "reload(kNN)\n",
      "kNN.datingClassTest()\n",
      "kNN.classifyPerson()\n",
      "from numpy import *"
     ],
     "language": "python",
     "metadata": {},
     "outputs": [
      {
       "ename": "OSError",
       "evalue": "[Errno 2] No such file or directory: '/media/hadoop/\\xe8\\xbd\\xaf\\xe4\\xbb\\xb6\\xe7\\x9b\\x98/workspace/python_project/src/machine learning/Ch02'",
       "output_type": "pyerr",
       "traceback": [
        "\u001b[0;31m---------------------------------------------------------------------------\u001b[0m\n\u001b[0;31mOSError\u001b[0m                                   Traceback (most recent call last)",
        "\u001b[0;32m<ipython-input-3-44367c48aca4>\u001b[0m in \u001b[0;36m<module>\u001b[0;34m()\u001b[0m\n\u001b[1;32m     13\u001b[0m \u001b[0;32mprint\u001b[0m \u001b[0mos\u001b[0m\u001b[0;34m.\u001b[0m\u001b[0mgetcwd\u001b[0m\u001b[0;34m(\u001b[0m\u001b[0;34m)\u001b[0m\u001b[0;34m\u001b[0m\u001b[0m\n\u001b[1;32m     14\u001b[0m \u001b[0;31m#\u5207\u6362\u5f53\u524d\u76ee\u5f55\u001b[0m\u001b[0;34m\u001b[0m\u001b[0;34m\u001b[0m\u001b[0m\n\u001b[0;32m---> 15\u001b[0;31m \u001b[0mos\u001b[0m\u001b[0;34m.\u001b[0m\u001b[0mchdir\u001b[0m\u001b[0;34m(\u001b[0m\u001b[0;34m'/media/hadoop/\u8f6f\u4ef6\u76d8/workspace/python_project/src/machine learning/Ch02'\u001b[0m\u001b[0;34m)\u001b[0m\u001b[0;34m\u001b[0m\u001b[0m\n\u001b[0m\u001b[1;32m     16\u001b[0m \u001b[0;34m\u001b[0m\u001b[0m\n\u001b[1;32m     17\u001b[0m \u001b[0;32mimport\u001b[0m \u001b[0mkNN\u001b[0m\u001b[0;34m\u001b[0m\u001b[0m\n",
        "\u001b[0;31mOSError\u001b[0m: [Errno 2] No such file or directory: '/media/hadoop/\\xe8\\xbd\\xaf\\xe4\\xbb\\xb6\\xe7\\x9b\\x98/workspace/python_project/src/machine learning/Ch02'"
       ]
      }
     ],
     "prompt_number": 3
    },
    {
     "cell_type": "code",
     "collapsed": false,
     "input": [],
     "language": "python",
     "metadata": {},
     "outputs": []
    }
   ],
   "metadata": {}
  }
 ]
}