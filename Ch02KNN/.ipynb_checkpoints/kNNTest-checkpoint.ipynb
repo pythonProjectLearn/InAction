{
 "worksheets": [
  {
   "cells": [
    {
     "cell_type": "code",
     "metadata": {},
     "outputs": [
      {
       "ename": "OSError",
       "evalue": "[Errno 2] No such file or directory: '/media/hadoop/\\xe8\\xbd\\xaf\\xe4\\xbb\\xb6\\xe7\\x9b\\x98/workspace/python_project/src/machine learning/Ch02'",
       "output_type": "pyerr",
       "traceback": [
        "\u001b[0;31m---------------------------------------------------------------------------\u001b[0m\n\u001b[0;31mOSError\u001b[0m                                   Traceback (most recent call last)",
        "\u001b[0;32m<ipython-input-3-44367c48aca4>\u001b[0m in \u001b[0;36m<module>\u001b[0;34m()\u001b[0m\n\u001b[1;32m     13\u001b[0m \u001b[0;32mprint\u001b[0m \u001b[0mos\u001b[0m\u001b[0;34m.\u001b[0m\u001b[0mgetcwd\u001b[0m\u001b[0;34m(\u001b[0m\u001b[0;34m)\u001b[0m\u001b[0;34m\u001b[0m\u001b[0m\n\u001b[1;32m     14\u001b[0m \u001b[0;31m#�л���ǰĿ¼\u001b[0m\u001b[0;34m\u001b[0m\u001b[0;34m\u001b[0m\u001b[0m\n\u001b[0;32m---> 15\u001b[0;31m \u001b[0mos\u001b[0m\u001b[0;34m.\u001b[0m\u001b[0mchdir\u001b[0m\u001b[0;34m(\u001b[0m\u001b[0;34m'/media/hadoop/�����/workspace/python_project/src/machine learning/Ch02'\u001b[0m\u001b[0;34m)\u001b[0m\u001b[0;34m\u001b[0m\u001b[0m\n\u001b[0m\u001b[1;32m     16\u001b[0m \u001b[0;34m\u001b[0m\u001b[0m\n\u001b[1;32m     17\u001b[0m \u001b[0;32mimport\u001b[0m \u001b[0mkNN\u001b[0m\u001b[0;34m\u001b[0m\u001b[0m\n",
        "\u001b[0;31mOSError\u001b[0m: [Errno 2] No such file or directory: '/media/hadoop/\\xe8\\xbd\\xaf\\xe4\\xbb\\xb6\\xe7\\x9b\\x98/workspace/python_project/src/machine learning/Ch02'"
       ]
      }
     ],
     "input": [
      "#!/usr/bin/python\n",
      "\"\"\"\n",
      "��2��knn\n",
      "\"\"\"\n",
      "#�޸ĳ����ַ�����ӳ���·��\n",
      "import sys\n",
      "reload(sys)\n",
      "sys.setdefaultencoding('utf-8')\n",
      "sys.path.append('/media/hadoop/�����/workspace/python_project/src/machine learning/Ch02')\n",
      "\n",
      "#�鿴��ǰĿ¼\n",
      "import os\n",
      "print os.getcwd()\n",
      "#�л���ǰĿ¼\n",
      "os.chdir('/media/hadoop/�����/workspace/python_project/src/machine learning/Ch02')\n",
      "\n",
      "import kNN\n",
      "#ֻ��import kNN���������reload()���ó���kNN.pyc\n",
      "reload(kNN)  \n",
      "\n",
      "#########2.2.1���ı��н�������  #################\n",
      "datingDataMat, datingLables = kNN.file2matrix('datingTestSet.txt')\n",
      "datingLables[0:20] \n",
      "\n",
      "#########2.2.2�������ݣ�Matplotlib����ɢ��ͼ#############################\n",
      "import matplotlib\n",
      "import matplotlib.pyplot as plt\n",
      "fig = plt.figure()\n",
      "ax = fig.add_subplot(111)\n",
      "ax.scatter(datingDataMat[:, 1], datingDataMat[:, 2])\n",
      "ax.scatter(datingDataMat[:, 1], datingDataMat[:, 2],\n",
      "           ax.scatter(datingDataMat[:, 1], datingDataMat[:, 2]))\n",
      "plt.show()\n",
      "plt.close()\n",
      "\n",
      "################2.2.3 ׼�����ݣ���һ��################\n",
      "reload(kNN)\n",
      "normMat, ranges, minVals = kNN.autoNorm(datingDataMat)\n",
      "normMat[:20]\n",
      "ranges[:20]\n",
      "minVals[:20]\n",
      "\n",
      "#ÿ�޸�һ��kNN.py��Ҫ��������kNN\n",
      "reload(kNN)\n",
      "kNN.datingClassTest()\n",
      "kNN.classifyPerson()\n",
      "from numpy import *"
     ],
     "language": "python",
     "prompt_number": 3
    },
    {
     "cell_type": "code",
     "metadata": {},
     "outputs": [],
     "input": [
      ""
     ],
     "language": "python"
    }
   ]
  }
 ],
 "cells": [],
 "metadata": {
  "name": ""
 },
 "nbformat": 3,
 "nbformat_minor": 0
}